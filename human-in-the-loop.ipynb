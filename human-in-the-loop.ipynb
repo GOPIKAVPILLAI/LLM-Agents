{
 "cells": [
  {
   "cell_type": "code",
   "execution_count": 1,
   "id": "f3d59292-5002-4d4f-9828-6b4678aa62a6",
   "metadata": {},
   "outputs": [],
   "source": [
    "from dotenv import load_dotenv\n",
    "\n",
    "_ = load_dotenv()"
   ]
  },
  {
   "cell_type": "code",
   "execution_count": 2,
   "id": "609c5d71-40f9-4060-ac19-dc8822f7909a",
   "metadata": {},
   "outputs": [],
   "source": [
    "from langgraph.graph import StateGraph, END\n",
    "from typing import TypedDict, Annotated\n",
    "import operator\n",
    "from langchain_core.messages import AnyMessage, SystemMessage, HumanMessage, ToolMessage\n",
    "from langchain_openai import ChatOpenAI\n",
    "from langchain_community.tools.tavily_search import TavilySearchResults\n",
    "from langgraph.checkpoint.sqlite import SqliteSaver\n",
    "from contextlib import ExitStack\n",
    "import os\n",
    "\n",
    "stack = ExitStack()\n",
    "memory = stack.enter_context(SqliteSaver.from_conn_string(\":memory:\"))"
   ]
  },
  {
   "cell_type": "code",
   "execution_count": 3,
   "id": "f5de9af8-58e1-4e4d-81a8-e50749570377",
   "metadata": {},
   "outputs": [],
   "source": [
    "load_dotenv(override = True)\n",
    "Tavily_api_key=os.environ.get(\"TAVILY_API_KEY\")\n",
    "openai_api_key=os.environ.get(\"OPENAI_API_KEY\")"
   ]
  },
  {
   "cell_type": "code",
   "execution_count": 4,
   "id": "915b4b0d-f244-4ab3-96f6-079e1cc522eb",
   "metadata": {},
   "outputs": [],
   "source": [
    "from uuid import uuid4\n",
    "from langchain_core.messages import AnyMessage, SystemMessage, HumanMessage, AIMessage\n",
    "\n",
    "\"\"\"\n",
    "In previous examples we've annotated the `messages` state key\n",
    "with the default `operator.add` or `+` reducer, which always\n",
    "appends new messages to the end of the existing messages array.\n",
    "\n",
    "Now, to support replacing existing messages, we annotate the\n",
    "`messages` key with a customer reducer function, which replaces\n",
    "messages with the same `id`, and appends them otherwise.\n",
    "\"\"\"\n",
    "def reduce_messages(left: list[AnyMessage], right: list[AnyMessage]) -> list[AnyMessage]:\n",
    "    # assign ids to messages that don't have them\n",
    "    for message in right:\n",
    "        if not message.id:\n",
    "            message.id = str(uuid4())\n",
    "    # merge the new messages with the existing messages\n",
    "    merged = left.copy()\n",
    "    for message in right:\n",
    "        for i, existing in enumerate(merged):\n",
    "            # replace any existing messages with the same id\n",
    "            if existing.id == message.id:\n",
    "                merged[i] = message\n",
    "                break\n",
    "        else:\n",
    "            # append any new messages to the end\n",
    "            merged.append(message)\n",
    "    return merged\n",
    "\n",
    "class AgentState(TypedDict):\n",
    "    messages: Annotated[list[AnyMessage], reduce_messages]"
   ]
  },
  {
   "cell_type": "code",
   "execution_count": 5,
   "id": "b7be76f1-38a4-42e9-9f4c-8a9afa6c25f6",
   "metadata": {},
   "outputs": [],
   "source": [
    "tool = TavilySearchResults(max_results=2)"
   ]
  },
  {
   "cell_type": "code",
   "execution_count": 6,
   "id": "5c72b373-573f-46b3-8d28-0af0b64e4bb3",
   "metadata": {},
   "outputs": [],
   "source": [
    "class Agent:\n",
    "    def __init__(self, model, tools, system=\"\", checkpointer=None):\n",
    "        self.system = system\n",
    "        graph = StateGraph(AgentState)\n",
    "        graph.add_node(\"llm\", self.call_openai)\n",
    "        graph.add_node(\"action\", self.take_action)\n",
    "        graph.add_conditional_edges(\"llm\", self.exists_action, {True: \"action\", False: END})\n",
    "        graph.add_edge(\"action\", \"llm\")\n",
    "        graph.set_entry_point(\"llm\")\n",
    "        self.graph = graph.compile(\n",
    "            checkpointer=checkpointer,\n",
    "            interrupt_before=[\"action\"]\n",
    "        )\n",
    "        self.tools = {t.name: t for t in tools}\n",
    "        self.model = model.bind_tools(tools)\n",
    "\n",
    "    def call_openai(self, state: AgentState):\n",
    "        messages = state['messages']\n",
    "        if self.system:\n",
    "            messages = [SystemMessage(content=self.system)] + messages\n",
    "        message = self.model.invoke(messages)\n",
    "        return {'messages': [message]}\n",
    "\n",
    "    def exists_action(self, state: AgentState):\n",
    "        print(state)\n",
    "        result = state['messages'][-1]\n",
    "        return len(result.tool_calls) > 0\n",
    "\n",
    "    def take_action(self, state: AgentState):\n",
    "        tool_calls = state['messages'][-1].tool_calls\n",
    "        results = []\n",
    "        for t in tool_calls:\n",
    "            print(f\"Calling: {t}\")\n",
    "            result = self.tools[t['name']].invoke(t['args'])\n",
    "            results.append(ToolMessage(tool_call_id=t['id'], name=t['name'], content=str(result)))\n",
    "        print(\"Back to the model!\")\n",
    "        return {'messages': results}"
   ]
  },
  {
   "cell_type": "code",
   "execution_count": 7,
   "id": "a7164833-75db-4223-9783-765e4e08a601",
   "metadata": {},
   "outputs": [],
   "source": [
    "prompt = \"\"\"You are a smart research assistant. Use the search engine to look up information. \\\n",
    "You are allowed to make multiple calls (either together or in sequence). \\\n",
    "Only look up information when you are sure of what you want. \\\n",
    "If you need to look up some information before asking a follow up question, you are allowed to do that!\n",
    "\"\"\"\n",
    "model = ChatOpenAI(model=\"gpt-3.5-turbo\")\n",
    "abot = Agent(model, [tool], system=prompt, checkpointer=memory)"
   ]
  },
  {
   "cell_type": "code",
   "execution_count": 8,
   "id": "c8ddb5c2-61c8-4ab3-b519-937594e3d166",
   "metadata": {},
   "outputs": [
    {
     "name": "stdout",
     "output_type": "stream",
     "text": [
      "{'messages': [HumanMessage(content='Whats the weather in SF?', additional_kwargs={}, response_metadata={}, id='25cbbbad-8dbb-4f08-840c-107cb97caf2c'), AIMessage(content='', additional_kwargs={'tool_calls': [{'id': 'call_MfLvFrhzU0eTPniwDXMXDjzq', 'function': {'arguments': '{\"query\":\"weather in San Francisco\"}', 'name': 'tavily_search_results_json'}, 'type': 'function'}], 'refusal': None}, response_metadata={'token_usage': {'completion_tokens': 22, 'prompt_tokens': 152, 'total_tokens': 174, 'completion_tokens_details': {'accepted_prediction_tokens': 0, 'audio_tokens': 0, 'reasoning_tokens': 0, 'rejected_prediction_tokens': 0}, 'prompt_tokens_details': {'audio_tokens': 0, 'cached_tokens': 0}}, 'model_name': 'gpt-3.5-turbo-0125', 'system_fingerprint': None, 'finish_reason': 'tool_calls', 'logprobs': None}, id='run-3cb9f1e4-7bda-41ab-8f77-8472a8e4b766-0', tool_calls=[{'name': 'tavily_search_results_json', 'args': {'query': 'weather in San Francisco'}, 'id': 'call_MfLvFrhzU0eTPniwDXMXDjzq', 'type': 'tool_call'}], usage_metadata={'input_tokens': 152, 'output_tokens': 22, 'total_tokens': 174, 'input_token_details': {'audio': 0, 'cache_read': 0}, 'output_token_details': {'audio': 0, 'reasoning': 0}})]}\n",
      "{'messages': [AIMessage(content='', additional_kwargs={'tool_calls': [{'id': 'call_MfLvFrhzU0eTPniwDXMXDjzq', 'function': {'arguments': '{\"query\":\"weather in San Francisco\"}', 'name': 'tavily_search_results_json'}, 'type': 'function'}], 'refusal': None}, response_metadata={'token_usage': {'completion_tokens': 22, 'prompt_tokens': 152, 'total_tokens': 174, 'completion_tokens_details': {'accepted_prediction_tokens': 0, 'audio_tokens': 0, 'reasoning_tokens': 0, 'rejected_prediction_tokens': 0}, 'prompt_tokens_details': {'audio_tokens': 0, 'cached_tokens': 0}}, 'model_name': 'gpt-3.5-turbo-0125', 'system_fingerprint': None, 'finish_reason': 'tool_calls', 'logprobs': None}, id='run-3cb9f1e4-7bda-41ab-8f77-8472a8e4b766-0', tool_calls=[{'name': 'tavily_search_results_json', 'args': {'query': 'weather in San Francisco'}, 'id': 'call_MfLvFrhzU0eTPniwDXMXDjzq', 'type': 'tool_call'}], usage_metadata={'input_tokens': 152, 'output_tokens': 22, 'total_tokens': 174, 'input_token_details': {'audio': 0, 'cache_read': 0}, 'output_token_details': {'audio': 0, 'reasoning': 0}})]}\n",
      "()\n"
     ]
    }
   ],
   "source": [
    "messages = [HumanMessage(content=\"Whats the weather in SF?\")]\n",
    "thread = {\"configurable\": {\"thread_id\": \"1\"}}\n",
    "for event in abot.graph.stream({\"messages\": messages}, thread):\n",
    "    for v in event.values():\n",
    "        print(v)"
   ]
  },
  {
   "cell_type": "code",
   "execution_count": 9,
   "id": "28de9bc6-8d1f-434d-b95a-e676317ebb22",
   "metadata": {},
   "outputs": [
    {
     "data": {
      "text/plain": [
       "StateSnapshot(values={'messages': [HumanMessage(content='Whats the weather in SF?', additional_kwargs={}, response_metadata={}, id='25cbbbad-8dbb-4f08-840c-107cb97caf2c'), AIMessage(content='', additional_kwargs={'tool_calls': [{'id': 'call_MfLvFrhzU0eTPniwDXMXDjzq', 'function': {'arguments': '{\"query\":\"weather in San Francisco\"}', 'name': 'tavily_search_results_json'}, 'type': 'function'}], 'refusal': None}, response_metadata={'token_usage': {'completion_tokens': 22, 'prompt_tokens': 152, 'total_tokens': 174, 'completion_tokens_details': {'accepted_prediction_tokens': 0, 'audio_tokens': 0, 'reasoning_tokens': 0, 'rejected_prediction_tokens': 0}, 'prompt_tokens_details': {'audio_tokens': 0, 'cached_tokens': 0}}, 'model_name': 'gpt-3.5-turbo-0125', 'system_fingerprint': None, 'finish_reason': 'tool_calls', 'logprobs': None}, id='run-3cb9f1e4-7bda-41ab-8f77-8472a8e4b766-0', tool_calls=[{'name': 'tavily_search_results_json', 'args': {'query': 'weather in San Francisco'}, 'id': 'call_MfLvFrhzU0eTPniwDXMXDjzq', 'type': 'tool_call'}], usage_metadata={'input_tokens': 152, 'output_tokens': 22, 'total_tokens': 174, 'input_token_details': {'audio': 0, 'cache_read': 0}, 'output_token_details': {'audio': 0, 'reasoning': 0}})]}, next=('action',), config={'configurable': {'thread_id': '1', 'checkpoint_ns': '', 'checkpoint_id': '1efd7139-4929-6890-8001-a9ad05bf7c4e'}}, metadata={'source': 'loop', 'writes': {'llm': {'messages': [AIMessage(content='', additional_kwargs={'tool_calls': [{'id': 'call_MfLvFrhzU0eTPniwDXMXDjzq', 'function': {'arguments': '{\"query\":\"weather in San Francisco\"}', 'name': 'tavily_search_results_json'}, 'type': 'function'}], 'refusal': None}, response_metadata={'token_usage': {'completion_tokens': 22, 'prompt_tokens': 152, 'total_tokens': 174, 'completion_tokens_details': {'accepted_prediction_tokens': 0, 'audio_tokens': 0, 'reasoning_tokens': 0, 'rejected_prediction_tokens': 0}, 'prompt_tokens_details': {'audio_tokens': 0, 'cached_tokens': 0}}, 'model_name': 'gpt-3.5-turbo-0125', 'system_fingerprint': None, 'finish_reason': 'tool_calls', 'logprobs': None}, id='run-3cb9f1e4-7bda-41ab-8f77-8472a8e4b766-0', tool_calls=[{'name': 'tavily_search_results_json', 'args': {'query': 'weather in San Francisco'}, 'id': 'call_MfLvFrhzU0eTPniwDXMXDjzq', 'type': 'tool_call'}], usage_metadata={'input_tokens': 152, 'output_tokens': 22, 'total_tokens': 174, 'input_token_details': {'audio': 0, 'cache_read': 0}, 'output_token_details': {'audio': 0, 'reasoning': 0}})]}}, 'thread_id': '1', 'step': 1, 'parents': {}}, created_at='2025-01-20T09:47:36.876046+00:00', parent_config={'configurable': {'thread_id': '1', 'checkpoint_ns': '', 'checkpoint_id': '1efd7139-412a-6b74-8000-3ac1d3f91aa1'}}, tasks=(PregelTask(id='2d2148c2-d15f-6137-0984-5f849f760e71', name='action', path=('__pregel_pull', 'action'), error=None, interrupts=(), state=None, result=None),))"
      ]
     },
     "execution_count": 9,
     "metadata": {},
     "output_type": "execute_result"
    }
   ],
   "source": [
    "abot.graph.get_state(thread)"
   ]
  },
  {
   "cell_type": "code",
   "execution_count": 10,
   "id": "846a4409-57ce-44e3-b671-49de89dcbe15",
   "metadata": {},
   "outputs": [
    {
     "data": {
      "text/plain": [
       "('action',)"
      ]
     },
     "execution_count": 10,
     "metadata": {},
     "output_type": "execute_result"
    }
   ],
   "source": [
    "abot.graph.get_state(thread).next"
   ]
  },
  {
   "cell_type": "code",
   "execution_count": 11,
   "id": "a52b4a38-42a1-4566-81ac-533d5d5b05f7",
   "metadata": {},
   "outputs": [
    {
     "name": "stdout",
     "output_type": "stream",
     "text": [
      "Calling: {'name': 'tavily_search_results_json', 'args': {'query': 'weather in San Francisco'}, 'id': 'call_MfLvFrhzU0eTPniwDXMXDjzq', 'type': 'tool_call'}\n",
      "Back to the model!\n",
      "{'messages': [ToolMessage(content='[{\\'url\\': \\'https://www.weatherapi.com/\\', \\'content\\': \"{\\'location\\': {\\'name\\': \\'San Francisco\\', \\'region\\': \\'California\\', \\'country\\': \\'United States of America\\', \\'lat\\': 37.775, \\'lon\\': -122.4183, \\'tz_id\\': \\'America/Los_Angeles\\', \\'localtime_epoch\\': 1737366395, \\'localtime\\': \\'2025-01-20 01:46\\'}, \\'current\\': {\\'last_updated_epoch\\': 1737366300, \\'last_updated\\': \\'2025-01-20 01:45\\', \\'temp_c\\': 8.3, \\'temp_f\\': 46.9, \\'is_day\\': 0, \\'condition\\': {\\'text\\': \\'Overcast\\', \\'icon\\': \\'//cdn.weatherapi.com/weather/64x64/night/122.png\\', \\'code\\': 1009}, \\'wind_mph\\': 3.4, \\'wind_kph\\': 5.4, \\'wind_degree\\': 21, \\'wind_dir\\': \\'NNE\\', \\'pressure_mb\\': 1023.0, \\'pressure_in\\': 30.21, \\'precip_mm\\': 0.0, \\'precip_in\\': 0.0, \\'humidity\\': 86, \\'cloud\\': 100, \\'feelslike_c\\': 7.7, \\'feelslike_f\\': 45.9, \\'windchill_c\\': 7.5, \\'windchill_f\\': 45.6, \\'heatindex_c\\': 8.2, \\'heatindex_f\\': 46.8, \\'dewpoint_c\\': 6.9, \\'dewpoint_f\\': 44.5, \\'vis_km\\': 16.0, \\'vis_miles\\': 9.0, \\'uv\\': 0.0, \\'gust_mph\\': 5.5, \\'gust_kph\\': 8.8}}\"}, {\\'url\\': \\'https://world-weather.info/forecast/usa/san_francisco/january-2025/\\', \\'content\\': \"Weather in San Francisco in January 2025 (California) - Detailed Weather Forecast for a Month Weather World Weather in San Francisco Weather in San Francisco in January 2025 San Francisco Weather Forecast for January 2025, is based on previous years\\' statistical data. +55°+46° +54°+45° +57°+48° +55°+48° +55°+48° +55°+46° +57°+50° +59°+50° +57°+50° +59°+50° +55°+48° +57°+48° +57°+48° +57°+50° +55°+46° +55°+48° +57°+48° +57°+48° +57°+48° +55°+48° +57°+48° +55°+48° +55°+48° +55°+46° +57°+48° +57°+48° +59°+48° +59°+48° +59°+48° +59°+48° +61°+50° Extended weather forecast in San Francisco HourlyWeek10-Day14-Day30-DayYear Weather in Washington, D.C.+30° Sacramento+45° Pleasanton+50° Redwood City+54° San Leandro+54° San Mateo+54° San Rafael+50° San Ramon+48° South San Francisco+55° Vallejo+50° Palo Alto+52° Pacifica+59° Berkeley+48° Castro Valley+54° Concord+48° Daly City+55° Leona Heights+54° Centennial+54° world\\'s temperature today day day Temperature units\"}]', name='tavily_search_results_json', id='9c7c2ada-5b8c-4b10-9242-6c2a1350c504', tool_call_id='call_MfLvFrhzU0eTPniwDXMXDjzq')]}\n",
      "{'messages': [HumanMessage(content='Whats the weather in SF?', additional_kwargs={}, response_metadata={}, id='25cbbbad-8dbb-4f08-840c-107cb97caf2c'), AIMessage(content='', additional_kwargs={'tool_calls': [{'id': 'call_MfLvFrhzU0eTPniwDXMXDjzq', 'function': {'arguments': '{\"query\":\"weather in San Francisco\"}', 'name': 'tavily_search_results_json'}, 'type': 'function'}], 'refusal': None}, response_metadata={'token_usage': {'completion_tokens': 22, 'prompt_tokens': 152, 'total_tokens': 174, 'completion_tokens_details': {'accepted_prediction_tokens': 0, 'audio_tokens': 0, 'reasoning_tokens': 0, 'rejected_prediction_tokens': 0}, 'prompt_tokens_details': {'audio_tokens': 0, 'cached_tokens': 0}}, 'model_name': 'gpt-3.5-turbo-0125', 'system_fingerprint': None, 'finish_reason': 'tool_calls', 'logprobs': None}, id='run-3cb9f1e4-7bda-41ab-8f77-8472a8e4b766-0', tool_calls=[{'name': 'tavily_search_results_json', 'args': {'query': 'weather in San Francisco'}, 'id': 'call_MfLvFrhzU0eTPniwDXMXDjzq', 'type': 'tool_call'}], usage_metadata={'input_tokens': 152, 'output_tokens': 22, 'total_tokens': 174, 'input_token_details': {'audio': 0, 'cache_read': 0}, 'output_token_details': {'audio': 0, 'reasoning': 0}}), ToolMessage(content='[{\\'url\\': \\'https://www.weatherapi.com/\\', \\'content\\': \"{\\'location\\': {\\'name\\': \\'San Francisco\\', \\'region\\': \\'California\\', \\'country\\': \\'United States of America\\', \\'lat\\': 37.775, \\'lon\\': -122.4183, \\'tz_id\\': \\'America/Los_Angeles\\', \\'localtime_epoch\\': 1737366395, \\'localtime\\': \\'2025-01-20 01:46\\'}, \\'current\\': {\\'last_updated_epoch\\': 1737366300, \\'last_updated\\': \\'2025-01-20 01:45\\', \\'temp_c\\': 8.3, \\'temp_f\\': 46.9, \\'is_day\\': 0, \\'condition\\': {\\'text\\': \\'Overcast\\', \\'icon\\': \\'//cdn.weatherapi.com/weather/64x64/night/122.png\\', \\'code\\': 1009}, \\'wind_mph\\': 3.4, \\'wind_kph\\': 5.4, \\'wind_degree\\': 21, \\'wind_dir\\': \\'NNE\\', \\'pressure_mb\\': 1023.0, \\'pressure_in\\': 30.21, \\'precip_mm\\': 0.0, \\'precip_in\\': 0.0, \\'humidity\\': 86, \\'cloud\\': 100, \\'feelslike_c\\': 7.7, \\'feelslike_f\\': 45.9, \\'windchill_c\\': 7.5, \\'windchill_f\\': 45.6, \\'heatindex_c\\': 8.2, \\'heatindex_f\\': 46.8, \\'dewpoint_c\\': 6.9, \\'dewpoint_f\\': 44.5, \\'vis_km\\': 16.0, \\'vis_miles\\': 9.0, \\'uv\\': 0.0, \\'gust_mph\\': 5.5, \\'gust_kph\\': 8.8}}\"}, {\\'url\\': \\'https://world-weather.info/forecast/usa/san_francisco/january-2025/\\', \\'content\\': \"Weather in San Francisco in January 2025 (California) - Detailed Weather Forecast for a Month Weather World Weather in San Francisco Weather in San Francisco in January 2025 San Francisco Weather Forecast for January 2025, is based on previous years\\' statistical data. +55°+46° +54°+45° +57°+48° +55°+48° +55°+48° +55°+46° +57°+50° +59°+50° +57°+50° +59°+50° +55°+48° +57°+48° +57°+48° +57°+50° +55°+46° +55°+48° +57°+48° +57°+48° +57°+48° +55°+48° +57°+48° +55°+48° +55°+48° +55°+46° +57°+48° +57°+48° +59°+48° +59°+48° +59°+48° +59°+48° +61°+50° Extended weather forecast in San Francisco HourlyWeek10-Day14-Day30-DayYear Weather in Washington, D.C.+30° Sacramento+45° Pleasanton+50° Redwood City+54° San Leandro+54° San Mateo+54° San Rafael+50° San Ramon+48° South San Francisco+55° Vallejo+50° Palo Alto+52° Pacifica+59° Berkeley+48° Castro Valley+54° Concord+48° Daly City+55° Leona Heights+54° Centennial+54° world\\'s temperature today day day Temperature units\"}]', name='tavily_search_results_json', id='9c7c2ada-5b8c-4b10-9242-6c2a1350c504', tool_call_id='call_MfLvFrhzU0eTPniwDXMXDjzq'), AIMessage(content='The current weather in San Francisco is overcast with a temperature of 46.9°F (8.3°C). The wind is coming from the NNE direction at 5.4 km/h. The humidity is at 86%, and the visibility is 9.0 miles.\\n\\nIf you need more detailed information or a forecast, let me know!', additional_kwargs={'refusal': None}, response_metadata={'token_usage': {'completion_tokens': 74, 'prompt_tokens': 987, 'total_tokens': 1061, 'completion_tokens_details': {'accepted_prediction_tokens': 0, 'audio_tokens': 0, 'reasoning_tokens': 0, 'rejected_prediction_tokens': 0}, 'prompt_tokens_details': {'audio_tokens': 0, 'cached_tokens': 0}}, 'model_name': 'gpt-3.5-turbo-0125', 'system_fingerprint': None, 'finish_reason': 'stop', 'logprobs': None}, id='run-e7c7435c-9786-4e1b-94df-30d8d93dd7b9-0', usage_metadata={'input_tokens': 987, 'output_tokens': 74, 'total_tokens': 1061, 'input_token_details': {'audio': 0, 'cache_read': 0}, 'output_token_details': {'audio': 0, 'reasoning': 0}})]}\n",
      "{'messages': [AIMessage(content='The current weather in San Francisco is overcast with a temperature of 46.9°F (8.3°C). The wind is coming from the NNE direction at 5.4 km/h. The humidity is at 86%, and the visibility is 9.0 miles.\\n\\nIf you need more detailed information or a forecast, let me know!', additional_kwargs={'refusal': None}, response_metadata={'token_usage': {'completion_tokens': 74, 'prompt_tokens': 987, 'total_tokens': 1061, 'completion_tokens_details': {'accepted_prediction_tokens': 0, 'audio_tokens': 0, 'reasoning_tokens': 0, 'rejected_prediction_tokens': 0}, 'prompt_tokens_details': {'audio_tokens': 0, 'cached_tokens': 0}}, 'model_name': 'gpt-3.5-turbo-0125', 'system_fingerprint': None, 'finish_reason': 'stop', 'logprobs': None}, id='run-e7c7435c-9786-4e1b-94df-30d8d93dd7b9-0', usage_metadata={'input_tokens': 987, 'output_tokens': 74, 'total_tokens': 1061, 'input_token_details': {'audio': 0, 'cache_read': 0}, 'output_token_details': {'audio': 0, 'reasoning': 0}})]}\n"
     ]
    }
   ],
   "source": [
    "for event in abot.graph.stream(None, thread):\n",
    "    for v in event.values():\n",
    "        print(v)"
   ]
  },
  {
   "cell_type": "code",
   "execution_count": 12,
   "id": "487c9439-7a2c-4d86-8ffe-4d01c947e324",
   "metadata": {},
   "outputs": [
    {
     "data": {
      "text/plain": [
       "StateSnapshot(values={'messages': [HumanMessage(content='Whats the weather in SF?', additional_kwargs={}, response_metadata={}, id='25cbbbad-8dbb-4f08-840c-107cb97caf2c'), AIMessage(content='', additional_kwargs={'tool_calls': [{'id': 'call_MfLvFrhzU0eTPniwDXMXDjzq', 'function': {'arguments': '{\"query\":\"weather in San Francisco\"}', 'name': 'tavily_search_results_json'}, 'type': 'function'}], 'refusal': None}, response_metadata={'token_usage': {'completion_tokens': 22, 'prompt_tokens': 152, 'total_tokens': 174, 'completion_tokens_details': {'accepted_prediction_tokens': 0, 'audio_tokens': 0, 'reasoning_tokens': 0, 'rejected_prediction_tokens': 0}, 'prompt_tokens_details': {'audio_tokens': 0, 'cached_tokens': 0}}, 'model_name': 'gpt-3.5-turbo-0125', 'system_fingerprint': None, 'finish_reason': 'tool_calls', 'logprobs': None}, id='run-3cb9f1e4-7bda-41ab-8f77-8472a8e4b766-0', tool_calls=[{'name': 'tavily_search_results_json', 'args': {'query': 'weather in San Francisco'}, 'id': 'call_MfLvFrhzU0eTPniwDXMXDjzq', 'type': 'tool_call'}], usage_metadata={'input_tokens': 152, 'output_tokens': 22, 'total_tokens': 174, 'input_token_details': {'audio': 0, 'cache_read': 0}, 'output_token_details': {'audio': 0, 'reasoning': 0}}), ToolMessage(content='[{\\'url\\': \\'https://www.weatherapi.com/\\', \\'content\\': \"{\\'location\\': {\\'name\\': \\'San Francisco\\', \\'region\\': \\'California\\', \\'country\\': \\'United States of America\\', \\'lat\\': 37.775, \\'lon\\': -122.4183, \\'tz_id\\': \\'America/Los_Angeles\\', \\'localtime_epoch\\': 1737366395, \\'localtime\\': \\'2025-01-20 01:46\\'}, \\'current\\': {\\'last_updated_epoch\\': 1737366300, \\'last_updated\\': \\'2025-01-20 01:45\\', \\'temp_c\\': 8.3, \\'temp_f\\': 46.9, \\'is_day\\': 0, \\'condition\\': {\\'text\\': \\'Overcast\\', \\'icon\\': \\'//cdn.weatherapi.com/weather/64x64/night/122.png\\', \\'code\\': 1009}, \\'wind_mph\\': 3.4, \\'wind_kph\\': 5.4, \\'wind_degree\\': 21, \\'wind_dir\\': \\'NNE\\', \\'pressure_mb\\': 1023.0, \\'pressure_in\\': 30.21, \\'precip_mm\\': 0.0, \\'precip_in\\': 0.0, \\'humidity\\': 86, \\'cloud\\': 100, \\'feelslike_c\\': 7.7, \\'feelslike_f\\': 45.9, \\'windchill_c\\': 7.5, \\'windchill_f\\': 45.6, \\'heatindex_c\\': 8.2, \\'heatindex_f\\': 46.8, \\'dewpoint_c\\': 6.9, \\'dewpoint_f\\': 44.5, \\'vis_km\\': 16.0, \\'vis_miles\\': 9.0, \\'uv\\': 0.0, \\'gust_mph\\': 5.5, \\'gust_kph\\': 8.8}}\"}, {\\'url\\': \\'https://world-weather.info/forecast/usa/san_francisco/january-2025/\\', \\'content\\': \"Weather in San Francisco in January 2025 (California) - Detailed Weather Forecast for a Month Weather World Weather in San Francisco Weather in San Francisco in January 2025 San Francisco Weather Forecast for January 2025, is based on previous years\\' statistical data. +55°+46° +54°+45° +57°+48° +55°+48° +55°+48° +55°+46° +57°+50° +59°+50° +57°+50° +59°+50° +55°+48° +57°+48° +57°+48° +57°+50° +55°+46° +55°+48° +57°+48° +57°+48° +57°+48° +55°+48° +57°+48° +55°+48° +55°+48° +55°+46° +57°+48° +57°+48° +59°+48° +59°+48° +59°+48° +59°+48° +61°+50° Extended weather forecast in San Francisco HourlyWeek10-Day14-Day30-DayYear Weather in Washington, D.C.+30° Sacramento+45° Pleasanton+50° Redwood City+54° San Leandro+54° San Mateo+54° San Rafael+50° San Ramon+48° South San Francisco+55° Vallejo+50° Palo Alto+52° Pacifica+59° Berkeley+48° Castro Valley+54° Concord+48° Daly City+55° Leona Heights+54° Centennial+54° world\\'s temperature today day day Temperature units\"}]', name='tavily_search_results_json', id='9c7c2ada-5b8c-4b10-9242-6c2a1350c504', tool_call_id='call_MfLvFrhzU0eTPniwDXMXDjzq'), AIMessage(content='The current weather in San Francisco is overcast with a temperature of 46.9°F (8.3°C). The wind is coming from the NNE direction at 5.4 km/h. The humidity is at 86%, and the visibility is 9.0 miles.\\n\\nIf you need more detailed information or a forecast, let me know!', additional_kwargs={'refusal': None}, response_metadata={'token_usage': {'completion_tokens': 74, 'prompt_tokens': 987, 'total_tokens': 1061, 'completion_tokens_details': {'accepted_prediction_tokens': 0, 'audio_tokens': 0, 'reasoning_tokens': 0, 'rejected_prediction_tokens': 0}, 'prompt_tokens_details': {'audio_tokens': 0, 'cached_tokens': 0}}, 'model_name': 'gpt-3.5-turbo-0125', 'system_fingerprint': None, 'finish_reason': 'stop', 'logprobs': None}, id='run-e7c7435c-9786-4e1b-94df-30d8d93dd7b9-0', usage_metadata={'input_tokens': 987, 'output_tokens': 74, 'total_tokens': 1061, 'input_token_details': {'audio': 0, 'cache_read': 0}, 'output_token_details': {'audio': 0, 'reasoning': 0}})]}, next=(), config={'configurable': {'thread_id': '1', 'checkpoint_ns': '', 'checkpoint_id': '1efd7139-c97a-6469-8003-848d344a348e'}}, metadata={'source': 'loop', 'writes': {'llm': {'messages': [AIMessage(content='The current weather in San Francisco is overcast with a temperature of 46.9°F (8.3°C). The wind is coming from the NNE direction at 5.4 km/h. The humidity is at 86%, and the visibility is 9.0 miles.\\n\\nIf you need more detailed information or a forecast, let me know!', additional_kwargs={'refusal': None}, response_metadata={'token_usage': {'completion_tokens': 74, 'prompt_tokens': 987, 'total_tokens': 1061, 'completion_tokens_details': {'accepted_prediction_tokens': 0, 'audio_tokens': 0, 'reasoning_tokens': 0, 'rejected_prediction_tokens': 0}, 'prompt_tokens_details': {'audio_tokens': 0, 'cached_tokens': 0}}, 'model_name': 'gpt-3.5-turbo-0125', 'system_fingerprint': None, 'finish_reason': 'stop', 'logprobs': None}, id='run-e7c7435c-9786-4e1b-94df-30d8d93dd7b9-0', usage_metadata={'input_tokens': 987, 'output_tokens': 74, 'total_tokens': 1061, 'input_token_details': {'audio': 0, 'cache_read': 0}, 'output_token_details': {'audio': 0, 'reasoning': 0}})]}}, 'thread_id': '1', 'step': 3, 'parents': {}}, created_at='2025-01-20T09:47:50.330890+00:00', parent_config={'configurable': {'thread_id': '1', 'checkpoint_ns': '', 'checkpoint_id': '1efd7139-bab7-6fa0-8002-cca757cd352e'}}, tasks=())"
      ]
     },
     "execution_count": 12,
     "metadata": {},
     "output_type": "execute_result"
    }
   ],
   "source": [
    "abot.graph.get_state(thread)"
   ]
  },
  {
   "cell_type": "code",
   "execution_count": 13,
   "id": "c275fc73-9cec-4225-9101-14290f238c87",
   "metadata": {},
   "outputs": [
    {
     "data": {
      "text/plain": [
       "()"
      ]
     },
     "execution_count": 13,
     "metadata": {},
     "output_type": "execute_result"
    }
   ],
   "source": [
    "abot.graph.get_state(thread).next"
   ]
  },
  {
   "cell_type": "code",
   "execution_count": 15,
   "id": "1e410188-896c-4a1d-a79d-1b09c54f134f",
   "metadata": {},
   "outputs": [
    {
     "name": "stdout",
     "output_type": "stream",
     "text": [
      "{'messages': [HumanMessage(content='Whats the weather in LA?', additional_kwargs={}, response_metadata={}, id='afc547a8-da88-4d10-b816-2b011eb5eea0'), AIMessage(content='', additional_kwargs={'tool_calls': [{'id': 'call_f4H2DdhZ0jOGRpTx9No7v5zL', 'function': {'arguments': '{\"query\":\"current weather in Los Angeles\"}', 'name': 'tavily_search_results_json'}, 'type': 'function'}], 'refusal': None}, response_metadata={'token_usage': {'completion_tokens': 23, 'prompt_tokens': 152, 'total_tokens': 175, 'completion_tokens_details': {'accepted_prediction_tokens': 0, 'audio_tokens': 0, 'reasoning_tokens': 0, 'rejected_prediction_tokens': 0}, 'prompt_tokens_details': {'audio_tokens': 0, 'cached_tokens': 0}}, 'model_name': 'gpt-3.5-turbo-0125', 'system_fingerprint': None, 'finish_reason': 'tool_calls', 'logprobs': None}, id='run-5cfc53ac-7f46-4b50-9b07-702f7b8e762f-0', tool_calls=[{'name': 'tavily_search_results_json', 'args': {'query': 'current weather in Los Angeles'}, 'id': 'call_f4H2DdhZ0jOGRpTx9No7v5zL', 'type': 'tool_call'}], usage_metadata={'input_tokens': 152, 'output_tokens': 23, 'total_tokens': 175, 'input_token_details': {'audio': 0, 'cache_read': 0}, 'output_token_details': {'audio': 0, 'reasoning': 0}}), ToolMessage(content='[{\\'url\\': \\'https://www.weatherapi.com/\\', \\'content\\': \"{\\'location\\': {\\'name\\': \\'Los Angeles\\', \\'region\\': \\'California\\', \\'country\\': \\'United States of America\\', \\'lat\\': 34.0522, \\'lon\\': -118.2428, \\'tz_id\\': \\'America/Los_Angeles\\', \\'localtime_epoch\\': 1737366383, \\'localtime\\': \\'2025-01-20 01:46\\'}, \\'current\\': {\\'last_updated_epoch\\': 1737366300, \\'last_updated\\': \\'2025-01-20 01:45\\', \\'temp_c\\': 12.8, \\'temp_f\\': 55.0, \\'is_day\\': 0, \\'condition\\': {\\'text\\': \\'Overcast\\', \\'icon\\': \\'//cdn.weatherapi.com/weather/64x64/night/122.png\\', \\'code\\': 1009}, \\'wind_mph\\': 3.6, \\'wind_kph\\': 5.8, \\'wind_degree\\': 104, \\'wind_dir\\': \\'ESE\\', \\'pressure_mb\\': 1020.0, \\'pressure_in\\': 30.13, \\'precip_mm\\': 0.0, \\'precip_in\\': 0.0, \\'humidity\\': 69, \\'cloud\\': 100, \\'feelslike_c\\': 12.8, \\'feelslike_f\\': 55.0, \\'windchill_c\\': 9.5, \\'windchill_f\\': 49.1, \\'heatindex_c\\': 9.5, \\'heatindex_f\\': 49.1, \\'dewpoint_c\\': 8.7, \\'dewpoint_f\\': 47.7, \\'vis_km\\': 16.0, \\'vis_miles\\': 9.0, \\'uv\\': 0.0, \\'gust_mph\\': 5.3, \\'gust_kph\\': 8.5}}\"}, {\\'url\\': \\'https://world-weather.info/forecast/usa/los_angeles/january-2025/\\', \\'content\\': \"Weather in Los Angeles in January 2025 (California) - Detailed Weather Forecast for a Month Weather Weather in Los Angeles Weather in Los Angeles in January 2025 Los Angeles Weather Forecast for January 2025, is based on previous years\\' statistical data. +61°+50° +63°+52° +63°+52° +63°+52° +64°+55° +64°+54° +64°+55° +64°+55° +64°+55° +64°+54° +64°+54° +63°+52° +64°+54° +66°+54° +66°+54° +64°+55° +66°+55° +66°+55° +64°+54° +63°+54° +63°+54° +64°+54° +64°+54° +63°+52° +64°+54° +64°+54° +68°+55° +68°+54° +66°+54° +66°+54° +66°+55° Extended weather forecast in Los Angeles HourlyWeek10 days14 days30 daysYear Weather in large and nearby cities Weather in Washington, D.C.+64° Sacramento+66° Monterey Park+61° North Glendale+63° Norwalk+61° Pasadena+63° Rosemead+61° Santa Monica+61° Manhattan Beach+63° Inglewood+61° Bellflower+61° Beverly Hills+59° Burbank+63° Compton+61° Rancho Dominguez+61° world\\'s temperature today day day Temperature units\"}]', name='tavily_search_results_json', id='0e0406d0-d169-4ca6-b6c8-3399086ce315', tool_call_id='call_f4H2DdhZ0jOGRpTx9No7v5zL'), AIMessage(content='The current weather in Los Angeles is overcast with a temperature of 12.8°C (55.0°F). The wind speed is 3.6 mph from the east-southeast direction. The humidity is at 69%, and the visibility is 16.0 km (9.0 miles).', additional_kwargs={'refusal': None}, response_metadata={'token_usage': {'completion_tokens': 65, 'prompt_tokens': 979, 'total_tokens': 1044, 'completion_tokens_details': {'accepted_prediction_tokens': 0, 'audio_tokens': 0, 'reasoning_tokens': 0, 'rejected_prediction_tokens': 0}, 'prompt_tokens_details': {'audio_tokens': 0, 'cached_tokens': 0}}, 'model_name': 'gpt-3.5-turbo-0125', 'system_fingerprint': None, 'finish_reason': 'stop', 'logprobs': None}, id='run-178605c8-86f6-41c5-b239-30a091834386-0', usage_metadata={'input_tokens': 979, 'output_tokens': 65, 'total_tokens': 1044, 'input_token_details': {'audio': 0, 'cache_read': 0}, 'output_token_details': {'audio': 0, 'reasoning': 0}}), HumanMessage(content='Whats the weather in LA?', additional_kwargs={}, response_metadata={}, id='08eded64-1072-45a7-8498-1a42be81d5fb'), AIMessage(content='', additional_kwargs={'tool_calls': [{'id': 'call_YNNYL8qAM7M201uVj2wMXI3e', 'function': {'arguments': '{\"query\":\"current weather in Los Angeles\"}', 'name': 'tavily_search_results_json'}, 'type': 'function'}], 'refusal': None}, response_metadata={'token_usage': {'completion_tokens': 23, 'prompt_tokens': 1056, 'total_tokens': 1079, 'completion_tokens_details': {'accepted_prediction_tokens': 0, 'audio_tokens': 0, 'reasoning_tokens': 0, 'rejected_prediction_tokens': 0}, 'prompt_tokens_details': {'audio_tokens': 0, 'cached_tokens': 0}}, 'model_name': 'gpt-3.5-turbo-0125', 'system_fingerprint': None, 'finish_reason': 'tool_calls', 'logprobs': None}, id='run-28e1e827-dac8-4532-9c90-5b963ecd5850-0', tool_calls=[{'name': 'tavily_search_results_json', 'args': {'query': 'current weather in Los Angeles'}, 'id': 'call_YNNYL8qAM7M201uVj2wMXI3e', 'type': 'tool_call'}], usage_metadata={'input_tokens': 1056, 'output_tokens': 23, 'total_tokens': 1079, 'input_token_details': {'audio': 0, 'cache_read': 0}, 'output_token_details': {'audio': 0, 'reasoning': 0}})]}\n",
      "{'messages': [AIMessage(content='', additional_kwargs={'tool_calls': [{'id': 'call_YNNYL8qAM7M201uVj2wMXI3e', 'function': {'arguments': '{\"query\":\"current weather in Los Angeles\"}', 'name': 'tavily_search_results_json'}, 'type': 'function'}], 'refusal': None}, response_metadata={'token_usage': {'completion_tokens': 23, 'prompt_tokens': 1056, 'total_tokens': 1079, 'completion_tokens_details': {'accepted_prediction_tokens': 0, 'audio_tokens': 0, 'reasoning_tokens': 0, 'rejected_prediction_tokens': 0}, 'prompt_tokens_details': {'audio_tokens': 0, 'cached_tokens': 0}}, 'model_name': 'gpt-3.5-turbo-0125', 'system_fingerprint': None, 'finish_reason': 'tool_calls', 'logprobs': None}, id='run-28e1e827-dac8-4532-9c90-5b963ecd5850-0', tool_calls=[{'name': 'tavily_search_results_json', 'args': {'query': 'current weather in Los Angeles'}, 'id': 'call_YNNYL8qAM7M201uVj2wMXI3e', 'type': 'tool_call'}], usage_metadata={'input_tokens': 1056, 'output_tokens': 23, 'total_tokens': 1079, 'input_token_details': {'audio': 0, 'cache_read': 0}, 'output_token_details': {'audio': 0, 'reasoning': 0}})]}\n",
      "()\n",
      "\n",
      " StateSnapshot(values={'messages': [HumanMessage(content='Whats the weather in LA?', additional_kwargs={}, response_metadata={}, id='afc547a8-da88-4d10-b816-2b011eb5eea0'), AIMessage(content='', additional_kwargs={'tool_calls': [{'id': 'call_f4H2DdhZ0jOGRpTx9No7v5zL', 'function': {'arguments': '{\"query\":\"current weather in Los Angeles\"}', 'name': 'tavily_search_results_json'}, 'type': 'function'}], 'refusal': None}, response_metadata={'token_usage': {'completion_tokens': 23, 'prompt_tokens': 152, 'total_tokens': 175, 'completion_tokens_details': {'accepted_prediction_tokens': 0, 'audio_tokens': 0, 'reasoning_tokens': 0, 'rejected_prediction_tokens': 0}, 'prompt_tokens_details': {'audio_tokens': 0, 'cached_tokens': 0}}, 'model_name': 'gpt-3.5-turbo-0125', 'system_fingerprint': None, 'finish_reason': 'tool_calls', 'logprobs': None}, id='run-5cfc53ac-7f46-4b50-9b07-702f7b8e762f-0', tool_calls=[{'name': 'tavily_search_results_json', 'args': {'query': 'current weather in Los Angeles'}, 'id': 'call_f4H2DdhZ0jOGRpTx9No7v5zL', 'type': 'tool_call'}], usage_metadata={'input_tokens': 152, 'output_tokens': 23, 'total_tokens': 175, 'input_token_details': {'audio': 0, 'cache_read': 0}, 'output_token_details': {'audio': 0, 'reasoning': 0}}), ToolMessage(content='[{\\'url\\': \\'https://www.weatherapi.com/\\', \\'content\\': \"{\\'location\\': {\\'name\\': \\'Los Angeles\\', \\'region\\': \\'California\\', \\'country\\': \\'United States of America\\', \\'lat\\': 34.0522, \\'lon\\': -118.2428, \\'tz_id\\': \\'America/Los_Angeles\\', \\'localtime_epoch\\': 1737366383, \\'localtime\\': \\'2025-01-20 01:46\\'}, \\'current\\': {\\'last_updated_epoch\\': 1737366300, \\'last_updated\\': \\'2025-01-20 01:45\\', \\'temp_c\\': 12.8, \\'temp_f\\': 55.0, \\'is_day\\': 0, \\'condition\\': {\\'text\\': \\'Overcast\\', \\'icon\\': \\'//cdn.weatherapi.com/weather/64x64/night/122.png\\', \\'code\\': 1009}, \\'wind_mph\\': 3.6, \\'wind_kph\\': 5.8, \\'wind_degree\\': 104, \\'wind_dir\\': \\'ESE\\', \\'pressure_mb\\': 1020.0, \\'pressure_in\\': 30.13, \\'precip_mm\\': 0.0, \\'precip_in\\': 0.0, \\'humidity\\': 69, \\'cloud\\': 100, \\'feelslike_c\\': 12.8, \\'feelslike_f\\': 55.0, \\'windchill_c\\': 9.5, \\'windchill_f\\': 49.1, \\'heatindex_c\\': 9.5, \\'heatindex_f\\': 49.1, \\'dewpoint_c\\': 8.7, \\'dewpoint_f\\': 47.7, \\'vis_km\\': 16.0, \\'vis_miles\\': 9.0, \\'uv\\': 0.0, \\'gust_mph\\': 5.3, \\'gust_kph\\': 8.5}}\"}, {\\'url\\': \\'https://world-weather.info/forecast/usa/los_angeles/january-2025/\\', \\'content\\': \"Weather in Los Angeles in January 2025 (California) - Detailed Weather Forecast for a Month Weather Weather in Los Angeles Weather in Los Angeles in January 2025 Los Angeles Weather Forecast for January 2025, is based on previous years\\' statistical data. +61°+50° +63°+52° +63°+52° +63°+52° +64°+55° +64°+54° +64°+55° +64°+55° +64°+55° +64°+54° +64°+54° +63°+52° +64°+54° +66°+54° +66°+54° +64°+55° +66°+55° +66°+55° +64°+54° +63°+54° +63°+54° +64°+54° +64°+54° +63°+52° +64°+54° +64°+54° +68°+55° +68°+54° +66°+54° +66°+54° +66°+55° Extended weather forecast in Los Angeles HourlyWeek10 days14 days30 daysYear Weather in large and nearby cities Weather in Washington, D.C.+64° Sacramento+66° Monterey Park+61° North Glendale+63° Norwalk+61° Pasadena+63° Rosemead+61° Santa Monica+61° Manhattan Beach+63° Inglewood+61° Bellflower+61° Beverly Hills+59° Burbank+63° Compton+61° Rancho Dominguez+61° world\\'s temperature today day day Temperature units\"}]', name='tavily_search_results_json', id='0e0406d0-d169-4ca6-b6c8-3399086ce315', tool_call_id='call_f4H2DdhZ0jOGRpTx9No7v5zL'), AIMessage(content='The current weather in Los Angeles is overcast with a temperature of 12.8°C (55.0°F). The wind speed is 3.6 mph from the east-southeast direction. The humidity is at 69%, and the visibility is 16.0 km (9.0 miles).', additional_kwargs={'refusal': None}, response_metadata={'token_usage': {'completion_tokens': 65, 'prompt_tokens': 979, 'total_tokens': 1044, 'completion_tokens_details': {'accepted_prediction_tokens': 0, 'audio_tokens': 0, 'reasoning_tokens': 0, 'rejected_prediction_tokens': 0}, 'prompt_tokens_details': {'audio_tokens': 0, 'cached_tokens': 0}}, 'model_name': 'gpt-3.5-turbo-0125', 'system_fingerprint': None, 'finish_reason': 'stop', 'logprobs': None}, id='run-178605c8-86f6-41c5-b239-30a091834386-0', usage_metadata={'input_tokens': 979, 'output_tokens': 65, 'total_tokens': 1044, 'input_token_details': {'audio': 0, 'cache_read': 0}, 'output_token_details': {'audio': 0, 'reasoning': 0}}), HumanMessage(content='Whats the weather in LA?', additional_kwargs={}, response_metadata={}, id='08eded64-1072-45a7-8498-1a42be81d5fb'), AIMessage(content='', additional_kwargs={'tool_calls': [{'id': 'call_YNNYL8qAM7M201uVj2wMXI3e', 'function': {'arguments': '{\"query\":\"current weather in Los Angeles\"}', 'name': 'tavily_search_results_json'}, 'type': 'function'}], 'refusal': None}, response_metadata={'token_usage': {'completion_tokens': 23, 'prompt_tokens': 1056, 'total_tokens': 1079, 'completion_tokens_details': {'accepted_prediction_tokens': 0, 'audio_tokens': 0, 'reasoning_tokens': 0, 'rejected_prediction_tokens': 0}, 'prompt_tokens_details': {'audio_tokens': 0, 'cached_tokens': 0}}, 'model_name': 'gpt-3.5-turbo-0125', 'system_fingerprint': None, 'finish_reason': 'tool_calls', 'logprobs': None}, id='run-28e1e827-dac8-4532-9c90-5b963ecd5850-0', tool_calls=[{'name': 'tavily_search_results_json', 'args': {'query': 'current weather in Los Angeles'}, 'id': 'call_YNNYL8qAM7M201uVj2wMXI3e', 'type': 'tool_call'}], usage_metadata={'input_tokens': 1056, 'output_tokens': 23, 'total_tokens': 1079, 'input_token_details': {'audio': 0, 'cache_read': 0}, 'output_token_details': {'audio': 0, 'reasoning': 0}})]}, next=('action',), config={'configurable': {'thread_id': '2', 'checkpoint_ns': '', 'checkpoint_id': '1efd713a-3fa4-6fde-8006-6ffecbc3a706'}}, metadata={'source': 'loop', 'writes': {'llm': {'messages': [AIMessage(content='', additional_kwargs={'tool_calls': [{'id': 'call_YNNYL8qAM7M201uVj2wMXI3e', 'function': {'arguments': '{\"query\":\"current weather in Los Angeles\"}', 'name': 'tavily_search_results_json'}, 'type': 'function'}], 'refusal': None}, response_metadata={'token_usage': {'completion_tokens': 23, 'prompt_tokens': 1056, 'total_tokens': 1079, 'completion_tokens_details': {'accepted_prediction_tokens': 0, 'audio_tokens': 0, 'reasoning_tokens': 0, 'rejected_prediction_tokens': 0}, 'prompt_tokens_details': {'audio_tokens': 0, 'cached_tokens': 0}}, 'model_name': 'gpt-3.5-turbo-0125', 'system_fingerprint': None, 'finish_reason': 'tool_calls', 'logprobs': None}, id='run-28e1e827-dac8-4532-9c90-5b963ecd5850-0', tool_calls=[{'name': 'tavily_search_results_json', 'args': {'query': 'current weather in Los Angeles'}, 'id': 'call_YNNYL8qAM7M201uVj2wMXI3e', 'type': 'tool_call'}], usage_metadata={'input_tokens': 1056, 'output_tokens': 23, 'total_tokens': 1079, 'input_token_details': {'audio': 0, 'cache_read': 0}, 'output_token_details': {'audio': 0, 'reasoning': 0}})]}}, 'thread_id': '2', 'step': 6, 'parents': {}}, created_at='2025-01-20T09:48:02.721583+00:00', parent_config={'configurable': {'thread_id': '2', 'checkpoint_ns': '', 'checkpoint_id': '1efd713a-3798-6e50-8005-7c45c55a16e6'}}, tasks=(PregelTask(id='95d8847e-1926-ddf8-ebb2-f12be9ef7bc4', name='action', path=('__pregel_pull', 'action'), error=None, interrupts=(), state=None, result=None),)) \n",
      "\n"
     ]
    },
    {
     "name": "stdin",
     "output_type": "stream",
     "text": [
      "proceed? y\n"
     ]
    },
    {
     "name": "stdout",
     "output_type": "stream",
     "text": [
      "Calling: {'name': 'tavily_search_results_json', 'args': {'query': 'current weather in Los Angeles'}, 'id': 'call_YNNYL8qAM7M201uVj2wMXI3e', 'type': 'tool_call'}\n",
      "Back to the model!\n",
      "{'messages': [ToolMessage(content='[{\\'url\\': \\'https://www.weatherapi.com/\\', \\'content\\': \"{\\'location\\': {\\'name\\': \\'Los Angeles\\', \\'region\\': \\'California\\', \\'country\\': \\'United States of America\\', \\'lat\\': 34.0522, \\'lon\\': -118.2428, \\'tz_id\\': \\'America/Los_Angeles\\', \\'localtime_epoch\\': 1737366383, \\'localtime\\': \\'2025-01-20 01:46\\'}, \\'current\\': {\\'last_updated_epoch\\': 1737366300, \\'last_updated\\': \\'2025-01-20 01:45\\', \\'temp_c\\': 12.8, \\'temp_f\\': 55.0, \\'is_day\\': 0, \\'condition\\': {\\'text\\': \\'Overcast\\', \\'icon\\': \\'//cdn.weatherapi.com/weather/64x64/night/122.png\\', \\'code\\': 1009}, \\'wind_mph\\': 3.6, \\'wind_kph\\': 5.8, \\'wind_degree\\': 104, \\'wind_dir\\': \\'ESE\\', \\'pressure_mb\\': 1020.0, \\'pressure_in\\': 30.13, \\'precip_mm\\': 0.0, \\'precip_in\\': 0.0, \\'humidity\\': 69, \\'cloud\\': 100, \\'feelslike_c\\': 12.8, \\'feelslike_f\\': 55.0, \\'windchill_c\\': 9.5, \\'windchill_f\\': 49.1, \\'heatindex_c\\': 9.5, \\'heatindex_f\\': 49.1, \\'dewpoint_c\\': 8.7, \\'dewpoint_f\\': 47.7, \\'vis_km\\': 16.0, \\'vis_miles\\': 9.0, \\'uv\\': 0.0, \\'gust_mph\\': 5.3, \\'gust_kph\\': 8.5}}\"}, {\\'url\\': \\'https://world-weather.info/forecast/usa/los_angeles/january-2025/\\', \\'content\\': \"Weather in Los Angeles in January 2025 (California) - Detailed Weather Forecast for a Month Weather Weather in Los Angeles Weather in Los Angeles in January 2025 Los Angeles Weather Forecast for January 2025, is based on previous years\\' statistical data. +61°+50° +63°+52° +63°+52° +63°+52° +64°+55° +64°+54° +64°+55° +64°+55° +64°+55° +64°+54° +64°+54° +63°+52° +64°+54° +66°+54° +66°+54° +64°+55° +66°+55° +66°+55° +64°+54° +63°+54° +63°+54° +64°+54° +64°+54° +63°+52° +64°+54° +64°+54° +68°+55° +68°+54° +66°+54° +66°+54° +66°+55° Extended weather forecast in Los Angeles HourlyWeek10 days14 days30 daysYear Weather in large and nearby cities Weather in Washington, D.C.+64° Sacramento+66° Monterey Park+61° North Glendale+63° Norwalk+61° Pasadena+63° Rosemead+61° Santa Monica+61° Manhattan Beach+63° Inglewood+61° Bellflower+61° Beverly Hills+59° Burbank+63° Compton+61° Rancho Dominguez+61° world\\'s temperature today day day Temperature units\"}]', name='tavily_search_results_json', id='8f447acd-d66b-4ce0-8644-497596b2632e', tool_call_id='call_YNNYL8qAM7M201uVj2wMXI3e')]}\n",
      "{'messages': [HumanMessage(content='Whats the weather in LA?', additional_kwargs={}, response_metadata={}, id='afc547a8-da88-4d10-b816-2b011eb5eea0'), AIMessage(content='', additional_kwargs={'tool_calls': [{'id': 'call_f4H2DdhZ0jOGRpTx9No7v5zL', 'function': {'arguments': '{\"query\":\"current weather in Los Angeles\"}', 'name': 'tavily_search_results_json'}, 'type': 'function'}], 'refusal': None}, response_metadata={'token_usage': {'completion_tokens': 23, 'prompt_tokens': 152, 'total_tokens': 175, 'completion_tokens_details': {'accepted_prediction_tokens': 0, 'audio_tokens': 0, 'reasoning_tokens': 0, 'rejected_prediction_tokens': 0}, 'prompt_tokens_details': {'audio_tokens': 0, 'cached_tokens': 0}}, 'model_name': 'gpt-3.5-turbo-0125', 'system_fingerprint': None, 'finish_reason': 'tool_calls', 'logprobs': None}, id='run-5cfc53ac-7f46-4b50-9b07-702f7b8e762f-0', tool_calls=[{'name': 'tavily_search_results_json', 'args': {'query': 'current weather in Los Angeles'}, 'id': 'call_f4H2DdhZ0jOGRpTx9No7v5zL', 'type': 'tool_call'}], usage_metadata={'input_tokens': 152, 'output_tokens': 23, 'total_tokens': 175, 'input_token_details': {'audio': 0, 'cache_read': 0}, 'output_token_details': {'audio': 0, 'reasoning': 0}}), ToolMessage(content='[{\\'url\\': \\'https://www.weatherapi.com/\\', \\'content\\': \"{\\'location\\': {\\'name\\': \\'Los Angeles\\', \\'region\\': \\'California\\', \\'country\\': \\'United States of America\\', \\'lat\\': 34.0522, \\'lon\\': -118.2428, \\'tz_id\\': \\'America/Los_Angeles\\', \\'localtime_epoch\\': 1737366383, \\'localtime\\': \\'2025-01-20 01:46\\'}, \\'current\\': {\\'last_updated_epoch\\': 1737366300, \\'last_updated\\': \\'2025-01-20 01:45\\', \\'temp_c\\': 12.8, \\'temp_f\\': 55.0, \\'is_day\\': 0, \\'condition\\': {\\'text\\': \\'Overcast\\', \\'icon\\': \\'//cdn.weatherapi.com/weather/64x64/night/122.png\\', \\'code\\': 1009}, \\'wind_mph\\': 3.6, \\'wind_kph\\': 5.8, \\'wind_degree\\': 104, \\'wind_dir\\': \\'ESE\\', \\'pressure_mb\\': 1020.0, \\'pressure_in\\': 30.13, \\'precip_mm\\': 0.0, \\'precip_in\\': 0.0, \\'humidity\\': 69, \\'cloud\\': 100, \\'feelslike_c\\': 12.8, \\'feelslike_f\\': 55.0, \\'windchill_c\\': 9.5, \\'windchill_f\\': 49.1, \\'heatindex_c\\': 9.5, \\'heatindex_f\\': 49.1, \\'dewpoint_c\\': 8.7, \\'dewpoint_f\\': 47.7, \\'vis_km\\': 16.0, \\'vis_miles\\': 9.0, \\'uv\\': 0.0, \\'gust_mph\\': 5.3, \\'gust_kph\\': 8.5}}\"}, {\\'url\\': \\'https://world-weather.info/forecast/usa/los_angeles/january-2025/\\', \\'content\\': \"Weather in Los Angeles in January 2025 (California) - Detailed Weather Forecast for a Month Weather Weather in Los Angeles Weather in Los Angeles in January 2025 Los Angeles Weather Forecast for January 2025, is based on previous years\\' statistical data. +61°+50° +63°+52° +63°+52° +63°+52° +64°+55° +64°+54° +64°+55° +64°+55° +64°+55° +64°+54° +64°+54° +63°+52° +64°+54° +66°+54° +66°+54° +64°+55° +66°+55° +66°+55° +64°+54° +63°+54° +63°+54° +64°+54° +64°+54° +63°+52° +64°+54° +64°+54° +68°+55° +68°+54° +66°+54° +66°+54° +66°+55° Extended weather forecast in Los Angeles HourlyWeek10 days14 days30 daysYear Weather in large and nearby cities Weather in Washington, D.C.+64° Sacramento+66° Monterey Park+61° North Glendale+63° Norwalk+61° Pasadena+63° Rosemead+61° Santa Monica+61° Manhattan Beach+63° Inglewood+61° Bellflower+61° Beverly Hills+59° Burbank+63° Compton+61° Rancho Dominguez+61° world\\'s temperature today day day Temperature units\"}]', name='tavily_search_results_json', id='0e0406d0-d169-4ca6-b6c8-3399086ce315', tool_call_id='call_f4H2DdhZ0jOGRpTx9No7v5zL'), AIMessage(content='The current weather in Los Angeles is overcast with a temperature of 12.8°C (55.0°F). The wind speed is 3.6 mph from the east-southeast direction. The humidity is at 69%, and the visibility is 16.0 km (9.0 miles).', additional_kwargs={'refusal': None}, response_metadata={'token_usage': {'completion_tokens': 65, 'prompt_tokens': 979, 'total_tokens': 1044, 'completion_tokens_details': {'accepted_prediction_tokens': 0, 'audio_tokens': 0, 'reasoning_tokens': 0, 'rejected_prediction_tokens': 0}, 'prompt_tokens_details': {'audio_tokens': 0, 'cached_tokens': 0}}, 'model_name': 'gpt-3.5-turbo-0125', 'system_fingerprint': None, 'finish_reason': 'stop', 'logprobs': None}, id='run-178605c8-86f6-41c5-b239-30a091834386-0', usage_metadata={'input_tokens': 979, 'output_tokens': 65, 'total_tokens': 1044, 'input_token_details': {'audio': 0, 'cache_read': 0}, 'output_token_details': {'audio': 0, 'reasoning': 0}}), HumanMessage(content='Whats the weather in LA?', additional_kwargs={}, response_metadata={}, id='08eded64-1072-45a7-8498-1a42be81d5fb'), AIMessage(content='', additional_kwargs={'tool_calls': [{'id': 'call_YNNYL8qAM7M201uVj2wMXI3e', 'function': {'arguments': '{\"query\":\"current weather in Los Angeles\"}', 'name': 'tavily_search_results_json'}, 'type': 'function'}], 'refusal': None}, response_metadata={'token_usage': {'completion_tokens': 23, 'prompt_tokens': 1056, 'total_tokens': 1079, 'completion_tokens_details': {'accepted_prediction_tokens': 0, 'audio_tokens': 0, 'reasoning_tokens': 0, 'rejected_prediction_tokens': 0}, 'prompt_tokens_details': {'audio_tokens': 0, 'cached_tokens': 0}}, 'model_name': 'gpt-3.5-turbo-0125', 'system_fingerprint': None, 'finish_reason': 'tool_calls', 'logprobs': None}, id='run-28e1e827-dac8-4532-9c90-5b963ecd5850-0', tool_calls=[{'name': 'tavily_search_results_json', 'args': {'query': 'current weather in Los Angeles'}, 'id': 'call_YNNYL8qAM7M201uVj2wMXI3e', 'type': 'tool_call'}], usage_metadata={'input_tokens': 1056, 'output_tokens': 23, 'total_tokens': 1079, 'input_token_details': {'audio': 0, 'cache_read': 0}, 'output_token_details': {'audio': 0, 'reasoning': 0}}), ToolMessage(content='[{\\'url\\': \\'https://www.weatherapi.com/\\', \\'content\\': \"{\\'location\\': {\\'name\\': \\'Los Angeles\\', \\'region\\': \\'California\\', \\'country\\': \\'United States of America\\', \\'lat\\': 34.0522, \\'lon\\': -118.2428, \\'tz_id\\': \\'America/Los_Angeles\\', \\'localtime_epoch\\': 1737366383, \\'localtime\\': \\'2025-01-20 01:46\\'}, \\'current\\': {\\'last_updated_epoch\\': 1737366300, \\'last_updated\\': \\'2025-01-20 01:45\\', \\'temp_c\\': 12.8, \\'temp_f\\': 55.0, \\'is_day\\': 0, \\'condition\\': {\\'text\\': \\'Overcast\\', \\'icon\\': \\'//cdn.weatherapi.com/weather/64x64/night/122.png\\', \\'code\\': 1009}, \\'wind_mph\\': 3.6, \\'wind_kph\\': 5.8, \\'wind_degree\\': 104, \\'wind_dir\\': \\'ESE\\', \\'pressure_mb\\': 1020.0, \\'pressure_in\\': 30.13, \\'precip_mm\\': 0.0, \\'precip_in\\': 0.0, \\'humidity\\': 69, \\'cloud\\': 100, \\'feelslike_c\\': 12.8, \\'feelslike_f\\': 55.0, \\'windchill_c\\': 9.5, \\'windchill_f\\': 49.1, \\'heatindex_c\\': 9.5, \\'heatindex_f\\': 49.1, \\'dewpoint_c\\': 8.7, \\'dewpoint_f\\': 47.7, \\'vis_km\\': 16.0, \\'vis_miles\\': 9.0, \\'uv\\': 0.0, \\'gust_mph\\': 5.3, \\'gust_kph\\': 8.5}}\"}, {\\'url\\': \\'https://world-weather.info/forecast/usa/los_angeles/january-2025/\\', \\'content\\': \"Weather in Los Angeles in January 2025 (California) - Detailed Weather Forecast for a Month Weather Weather in Los Angeles Weather in Los Angeles in January 2025 Los Angeles Weather Forecast for January 2025, is based on previous years\\' statistical data. +61°+50° +63°+52° +63°+52° +63°+52° +64°+55° +64°+54° +64°+55° +64°+55° +64°+55° +64°+54° +64°+54° +63°+52° +64°+54° +66°+54° +66°+54° +64°+55° +66°+55° +66°+55° +64°+54° +63°+54° +63°+54° +64°+54° +64°+54° +63°+52° +64°+54° +64°+54° +68°+55° +68°+54° +66°+54° +66°+54° +66°+55° Extended weather forecast in Los Angeles HourlyWeek10 days14 days30 daysYear Weather in large and nearby cities Weather in Washington, D.C.+64° Sacramento+66° Monterey Park+61° North Glendale+63° Norwalk+61° Pasadena+63° Rosemead+61° Santa Monica+61° Manhattan Beach+63° Inglewood+61° Bellflower+61° Beverly Hills+59° Burbank+63° Compton+61° Rancho Dominguez+61° world\\'s temperature today day day Temperature units\"}]', name='tavily_search_results_json', id='8f447acd-d66b-4ce0-8644-497596b2632e', tool_call_id='call_YNNYL8qAM7M201uVj2wMXI3e'), AIMessage(content='The current weather in Los Angeles is overcast with a temperature of 12.8°C (55.0°F). The wind speed is 3.6 mph from the east-southeast direction. The humidity is at 69%.', additional_kwargs={'refusal': None}, response_metadata={'token_usage': {'completion_tokens': 50, 'prompt_tokens': 1883, 'total_tokens': 1933, 'completion_tokens_details': {'accepted_prediction_tokens': 0, 'audio_tokens': 0, 'reasoning_tokens': 0, 'rejected_prediction_tokens': 0}, 'prompt_tokens_details': {'audio_tokens': 0, 'cached_tokens': 0}}, 'model_name': 'gpt-3.5-turbo-0125', 'system_fingerprint': None, 'finish_reason': 'stop', 'logprobs': None}, id='run-0e17d498-43c3-4cf5-965a-e546b76e687c-0', usage_metadata={'input_tokens': 1883, 'output_tokens': 50, 'total_tokens': 1933, 'input_token_details': {'audio': 0, 'cache_read': 0}, 'output_token_details': {'audio': 0, 'reasoning': 0}})]}\n",
      "{'messages': [AIMessage(content='The current weather in Los Angeles is overcast with a temperature of 12.8°C (55.0°F). The wind speed is 3.6 mph from the east-southeast direction. The humidity is at 69%.', additional_kwargs={'refusal': None}, response_metadata={'token_usage': {'completion_tokens': 50, 'prompt_tokens': 1883, 'total_tokens': 1933, 'completion_tokens_details': {'accepted_prediction_tokens': 0, 'audio_tokens': 0, 'reasoning_tokens': 0, 'rejected_prediction_tokens': 0}, 'prompt_tokens_details': {'audio_tokens': 0, 'cached_tokens': 0}}, 'model_name': 'gpt-3.5-turbo-0125', 'system_fingerprint': None, 'finish_reason': 'stop', 'logprobs': None}, id='run-0e17d498-43c3-4cf5-965a-e546b76e687c-0', usage_metadata={'input_tokens': 1883, 'output_tokens': 50, 'total_tokens': 1933, 'input_token_details': {'audio': 0, 'cache_read': 0}, 'output_token_details': {'audio': 0, 'reasoning': 0}})]}\n"
     ]
    }
   ],
   "source": [
    "messages = [HumanMessage(\"Whats the weather in LA?\")]\n",
    "thread = {\"configurable\": {\"thread_id\": \"2\"}}\n",
    "for event in abot.graph.stream({\"messages\": messages}, thread):\n",
    "    for v in event.values():\n",
    "        print(v)\n",
    "while abot.graph.get_state(thread).next:\n",
    "    print(\"\\n\", abot.graph.get_state(thread),\"\\n\")\n",
    "    _input = input(\"proceed?\")\n",
    "    if _input != \"y\":\n",
    "        print(\"aborting\")\n",
    "        break\n",
    "    for event in abot.graph.stream(None, thread):\n",
    "        for v in event.values():\n",
    "            print(v)"
   ]
  },
  {
   "cell_type": "code",
   "execution_count": 16,
   "id": "83d29d34-92ab-46b6-9314-2253552f86c5",
   "metadata": {},
   "outputs": [
    {
     "name": "stdout",
     "output_type": "stream",
     "text": [
      "{'messages': [HumanMessage(content='Whats the weather in LA?', additional_kwargs={}, response_metadata={}, id='4ded1d4f-7078-4f0c-8d66-d64a49713440'), AIMessage(content='', additional_kwargs={'tool_calls': [{'id': 'call_j9fWzoAmKr00Nf1yoGszf2MC', 'function': {'arguments': '{\"query\":\"current weather in Los Angeles\"}', 'name': 'tavily_search_results_json'}, 'type': 'function'}], 'refusal': None}, response_metadata={'token_usage': {'completion_tokens': 23, 'prompt_tokens': 152, 'total_tokens': 175, 'completion_tokens_details': {'accepted_prediction_tokens': 0, 'audio_tokens': 0, 'reasoning_tokens': 0, 'rejected_prediction_tokens': 0}, 'prompt_tokens_details': {'audio_tokens': 0, 'cached_tokens': 0}}, 'model_name': 'gpt-3.5-turbo-0125', 'system_fingerprint': None, 'finish_reason': 'tool_calls', 'logprobs': None}, id='run-66e29f6c-080e-477e-9a4d-f56906e3eb11-0', tool_calls=[{'name': 'tavily_search_results_json', 'args': {'query': 'current weather in Los Angeles'}, 'id': 'call_j9fWzoAmKr00Nf1yoGszf2MC', 'type': 'tool_call'}], usage_metadata={'input_tokens': 152, 'output_tokens': 23, 'total_tokens': 175, 'input_token_details': {'audio': 0, 'cache_read': 0}, 'output_token_details': {'audio': 0, 'reasoning': 0}})]}\n",
      "{'messages': [AIMessage(content='', additional_kwargs={'tool_calls': [{'id': 'call_j9fWzoAmKr00Nf1yoGszf2MC', 'function': {'arguments': '{\"query\":\"current weather in Los Angeles\"}', 'name': 'tavily_search_results_json'}, 'type': 'function'}], 'refusal': None}, response_metadata={'token_usage': {'completion_tokens': 23, 'prompt_tokens': 152, 'total_tokens': 175, 'completion_tokens_details': {'accepted_prediction_tokens': 0, 'audio_tokens': 0, 'reasoning_tokens': 0, 'rejected_prediction_tokens': 0}, 'prompt_tokens_details': {'audio_tokens': 0, 'cached_tokens': 0}}, 'model_name': 'gpt-3.5-turbo-0125', 'system_fingerprint': None, 'finish_reason': 'tool_calls', 'logprobs': None}, id='run-66e29f6c-080e-477e-9a4d-f56906e3eb11-0', tool_calls=[{'name': 'tavily_search_results_json', 'args': {'query': 'current weather in Los Angeles'}, 'id': 'call_j9fWzoAmKr00Nf1yoGszf2MC', 'type': 'tool_call'}], usage_metadata={'input_tokens': 152, 'output_tokens': 23, 'total_tokens': 175, 'input_token_details': {'audio': 0, 'cache_read': 0}, 'output_token_details': {'audio': 0, 'reasoning': 0}})]}\n",
      "()\n"
     ]
    }
   ],
   "source": [
    "messages = [HumanMessage(\"Whats the weather in LA?\")]\n",
    "thread = {\"configurable\": {\"thread_id\": \"3\"}}\n",
    "for event in abot.graph.stream({\"messages\": messages}, thread):\n",
    "    for v in event.values():\n",
    "        print(v)"
   ]
  },
  {
   "cell_type": "code",
   "execution_count": 18,
   "id": "4ac65a4b-4e8d-456d-83b8-d1cab61c2c03",
   "metadata": {},
   "outputs": [],
   "source": [
    "current_values = abot.graph.get_state(thread)"
   ]
  },
  {
   "cell_type": "code",
   "execution_count": 19,
   "id": "72c66707-380a-49b7-873f-c31907eede19",
   "metadata": {},
   "outputs": [
    {
     "data": {
      "text/plain": [
       "[{'name': 'tavily_search_results_json',\n",
       "  'args': {'query': 'current weather in Los Angeles'},\n",
       "  'id': 'call_j9fWzoAmKr00Nf1yoGszf2MC',\n",
       "  'type': 'tool_call'}]"
      ]
     },
     "execution_count": 19,
     "metadata": {},
     "output_type": "execute_result"
    }
   ],
   "source": [
    "current_values.values['messages'][-1].tool_calls"
   ]
  },
  {
   "cell_type": "code",
   "execution_count": 20,
   "id": "18185fdd-d959-4d5c-aa92-b758a1bac87f",
   "metadata": {},
   "outputs": [],
   "source": [
    "_id = current_values.values['messages'][-1].tool_calls[0]['id']\n",
    "current_values.values['messages'][-1].tool_calls = [\n",
    "    {'name': 'tavily_search_results_json',\n",
    "  'args': {'query': 'current weather in Louisiana'},\n",
    "  'id': _id}\n",
    "]"
   ]
  },
  {
   "cell_type": "code",
   "execution_count": 21,
   "id": "5214b9e7-4685-4307-8c85-110eb1df1727",
   "metadata": {},
   "outputs": [
    {
     "data": {
      "text/plain": [
       "[{'name': 'tavily_search_results_json',\n",
       "  'args': {'query': 'current weather in Louisiana'},\n",
       "  'id': 'call_j9fWzoAmKr00Nf1yoGszf2MC'}]"
      ]
     },
     "execution_count": 21,
     "metadata": {},
     "output_type": "execute_result"
    }
   ],
   "source": [
    "current_values.values['messages'][-1].tool_calls"
   ]
  },
  {
   "cell_type": "code",
   "execution_count": 22,
   "id": "e33247f5-ca04-460e-86d0-83593053e6f7",
   "metadata": {},
   "outputs": [
    {
     "name": "stdout",
     "output_type": "stream",
     "text": [
      "{'messages': [HumanMessage(content='Whats the weather in LA?', additional_kwargs={}, response_metadata={}, id='4ded1d4f-7078-4f0c-8d66-d64a49713440'), AIMessage(content='', additional_kwargs={'tool_calls': [{'id': 'call_j9fWzoAmKr00Nf1yoGszf2MC', 'function': {'arguments': '{\"query\":\"current weather in Los Angeles\"}', 'name': 'tavily_search_results_json'}, 'type': 'function'}], 'refusal': None}, response_metadata={'token_usage': {'completion_tokens': 23, 'prompt_tokens': 152, 'total_tokens': 175, 'completion_tokens_details': {'accepted_prediction_tokens': 0, 'audio_tokens': 0, 'reasoning_tokens': 0, 'rejected_prediction_tokens': 0}, 'prompt_tokens_details': {'audio_tokens': 0, 'cached_tokens': 0}}, 'model_name': 'gpt-3.5-turbo-0125', 'system_fingerprint': None, 'finish_reason': 'tool_calls', 'logprobs': None}, id='run-66e29f6c-080e-477e-9a4d-f56906e3eb11-0', tool_calls=[{'name': 'tavily_search_results_json', 'args': {'query': 'current weather in Louisiana'}, 'id': 'call_j9fWzoAmKr00Nf1yoGszf2MC'}], usage_metadata={'input_tokens': 152, 'output_tokens': 23, 'total_tokens': 175, 'input_token_details': {'audio': 0, 'cache_read': 0}, 'output_token_details': {'audio': 0, 'reasoning': 0}})]}\n"
     ]
    },
    {
     "data": {
      "text/plain": [
       "{'configurable': {'thread_id': '3',\n",
       "  'checkpoint_ns': '',\n",
       "  'checkpoint_id': '1efd7145-35ed-6572-8002-ca5c61dabe5f'}}"
      ]
     },
     "execution_count": 22,
     "metadata": {},
     "output_type": "execute_result"
    }
   ],
   "source": [
    "abot.graph.update_state(thread, current_values.values)"
   ]
  },
  {
   "cell_type": "code",
   "execution_count": 23,
   "id": "47fef693-e1a5-46a1-a62a-5c5d502344ec",
   "metadata": {},
   "outputs": [
    {
     "data": {
      "text/plain": [
       "StateSnapshot(values={'messages': [HumanMessage(content='Whats the weather in LA?', additional_kwargs={}, response_metadata={}, id='4ded1d4f-7078-4f0c-8d66-d64a49713440'), AIMessage(content='', additional_kwargs={'tool_calls': [{'id': 'call_j9fWzoAmKr00Nf1yoGszf2MC', 'function': {'arguments': '{\"query\":\"current weather in Los Angeles\"}', 'name': 'tavily_search_results_json'}, 'type': 'function'}], 'refusal': None}, response_metadata={'token_usage': {'completion_tokens': 23, 'prompt_tokens': 152, 'total_tokens': 175, 'completion_tokens_details': {'accepted_prediction_tokens': 0, 'audio_tokens': 0, 'reasoning_tokens': 0, 'rejected_prediction_tokens': 0}, 'prompt_tokens_details': {'audio_tokens': 0, 'cached_tokens': 0}}, 'model_name': 'gpt-3.5-turbo-0125', 'system_fingerprint': None, 'finish_reason': 'tool_calls', 'logprobs': None}, id='run-66e29f6c-080e-477e-9a4d-f56906e3eb11-0', tool_calls=[{'name': 'tavily_search_results_json', 'args': {'query': 'current weather in Louisiana'}, 'id': 'call_j9fWzoAmKr00Nf1yoGszf2MC', 'type': 'tool_call'}], usage_metadata={'input_tokens': 152, 'output_tokens': 23, 'total_tokens': 175, 'input_token_details': {'audio': 0, 'cache_read': 0}, 'output_token_details': {'audio': 0, 'reasoning': 0}})]}, next=('action',), config={'configurable': {'thread_id': '3', 'checkpoint_ns': '', 'checkpoint_id': '1efd7145-35ed-6572-8002-ca5c61dabe5f'}}, metadata={'source': 'update', 'writes': {'llm': {'messages': [HumanMessage(content='Whats the weather in LA?', additional_kwargs={}, response_metadata={}, id='4ded1d4f-7078-4f0c-8d66-d64a49713440'), AIMessage(content='', additional_kwargs={'tool_calls': [{'id': 'call_j9fWzoAmKr00Nf1yoGszf2MC', 'function': {'arguments': '{\"query\":\"current weather in Los Angeles\"}', 'name': 'tavily_search_results_json'}, 'type': 'function'}], 'refusal': None}, response_metadata={'token_usage': {'completion_tokens': 23, 'prompt_tokens': 152, 'total_tokens': 175, 'completion_tokens_details': {'accepted_prediction_tokens': 0, 'audio_tokens': 0, 'reasoning_tokens': 0, 'rejected_prediction_tokens': 0}, 'prompt_tokens_details': {'audio_tokens': 0, 'cached_tokens': 0}}, 'model_name': 'gpt-3.5-turbo-0125', 'system_fingerprint': None, 'finish_reason': 'tool_calls', 'logprobs': None}, id='run-66e29f6c-080e-477e-9a4d-f56906e3eb11-0', tool_calls=[{'name': 'tavily_search_results_json', 'args': {'query': 'current weather in Louisiana'}, 'id': 'call_j9fWzoAmKr00Nf1yoGszf2MC', 'type': 'tool_call'}], usage_metadata={'input_tokens': 152, 'output_tokens': 23, 'total_tokens': 175, 'input_token_details': {'audio': 0, 'cache_read': 0}, 'output_token_details': {'audio': 0, 'reasoning': 0}})]}}, 'thread_id': '3', 'step': 2, 'parents': {}}, created_at='2025-01-20T09:52:56.981643+00:00', parent_config={'configurable': {'thread_id': '3', 'checkpoint_ns': '', 'checkpoint_id': '1efd713c-9785-6f64-8001-9b25baa5b918'}}, tasks=(PregelTask(id='88f760b6-0273-3110-8aa0-12a71c3ac9aa', name='action', path=('__pregel_pull', 'action'), error=None, interrupts=(), state=None, result=None),))"
      ]
     },
     "execution_count": 23,
     "metadata": {},
     "output_type": "execute_result"
    }
   ],
   "source": [
    "abot.graph.get_state(thread)"
   ]
  },
  {
   "cell_type": "code",
   "execution_count": 24,
   "id": "915f7e4c-5045-4e2e-a5f3-94bf9eb70119",
   "metadata": {},
   "outputs": [
    {
     "name": "stdout",
     "output_type": "stream",
     "text": [
      "Calling: {'name': 'tavily_search_results_json', 'args': {'query': 'current weather in Louisiana'}, 'id': 'call_j9fWzoAmKr00Nf1yoGszf2MC', 'type': 'tool_call'}\n",
      "Back to the model!\n",
      "{'messages': [ToolMessage(content='[{\\'url\\': \\'https://www.weatherapi.com/\\', \\'content\\': \"{\\'location\\': {\\'name\\': \\'Louisiana\\', \\'region\\': \\'Missouri\\', \\'country\\': \\'USA United States of America\\', \\'lat\\': 39.4411, \\'lon\\': -91.0551, \\'tz_id\\': \\'America/Chicago\\', \\'localtime_epoch\\': 1737366800, \\'localtime\\': \\'2025-01-20 03:53\\'}, \\'current\\': {\\'last_updated_epoch\\': 1737366300, \\'last_updated\\': \\'2025-01-20 03:45\\', \\'temp_c\\': -16.5, \\'temp_f\\': 2.3, \\'is_day\\': 0, \\'condition\\': {\\'text\\': \\'Clear\\', \\'icon\\': \\'//cdn.weatherapi.com/weather/64x64/night/113.png\\', \\'code\\': 1000}, \\'wind_mph\\': 6.0, \\'wind_kph\\': 9.7, \\'wind_degree\\': 292, \\'wind_dir\\': \\'WNW\\', \\'pressure_mb\\': 1034.0, \\'pressure_in\\': 30.54, \\'precip_mm\\': 0.0, \\'precip_in\\': 0.0, \\'humidity\\': 66, \\'cloud\\': 0, \\'feelslike_c\\': -22.9, \\'feelslike_f\\': -9.2, \\'windchill_c\\': -21.4, \\'windchill_f\\': -6.5, \\'heatindex_c\\': -15.2, \\'heatindex_f\\': 4.7, \\'dewpoint_c\\': -18.7, \\'dewpoint_f\\': -1.6, \\'vis_km\\': 16.0, \\'vis_miles\\': 9.0, \\'uv\\': 0.0, \\'gust_mph\\': 8.8, \\'gust_kph\\': 14.1}}\"}, {\\'url\\': \\'https://world-weather.info/forecast/usa/new_orleans/january-2025/\\', \\'content\\': \"Weather in New Orleans in January 2025 (Louisiana) - Detailed Weather Forecast for a Month Weather in New Orleans Weather in New Orleans in January 2025 New Orleans Weather Forecast for January 2025 is based on long term prognosis and previous years\\' statistical data. 1 +57°+55° 2 +61°+52° 3 +61°+55° 4 +55°+52° 5 +70°+59° 6 +57°+68° 7 +46°+45° 8 +45°+41° 9 +45°+39° 10 +45°+39° 11 +46°+37° 12 +39°+36° 13 +45°+39° 14 +59°+43° 15 +63°+55° 16 +57°+61° +57°+48° +63°+52° +61°+55° +59°+52° +61°+54° +63°+54° +61°+54° +63°+52° +63°+55° +59°+52° +59°+52° +61°+52° +61°+54° +61°+50° +66°+55° Extended weather forecast in New Orleans HourlyWeek10-Day14-Day30-DayYear Weather in Washington, D.C.+43° Slidell+46° Biloxi+46° Brookhaven+43° Gulfport+46° Hattiesburg+43° McComb+43° Pascagoula+48° Morgan City+50° Bogalusa+45° Franklin+52° Franklinton+43° Crestview+46° world\\'s temperature today Temperature units\"}]', name='tavily_search_results_json', id='fa0a5f89-2ee4-4038-9fe4-bc70d7adaa96', tool_call_id='call_j9fWzoAmKr00Nf1yoGszf2MC')]}\n",
      "{'messages': [HumanMessage(content='Whats the weather in LA?', additional_kwargs={}, response_metadata={}, id='4ded1d4f-7078-4f0c-8d66-d64a49713440'), AIMessage(content='', additional_kwargs={'tool_calls': [{'id': 'call_j9fWzoAmKr00Nf1yoGszf2MC', 'function': {'arguments': '{\"query\":\"current weather in Los Angeles\"}', 'name': 'tavily_search_results_json'}, 'type': 'function'}], 'refusal': None}, response_metadata={'token_usage': {'completion_tokens': 23, 'prompt_tokens': 152, 'total_tokens': 175, 'completion_tokens_details': {'accepted_prediction_tokens': 0, 'audio_tokens': 0, 'reasoning_tokens': 0, 'rejected_prediction_tokens': 0}, 'prompt_tokens_details': {'audio_tokens': 0, 'cached_tokens': 0}}, 'model_name': 'gpt-3.5-turbo-0125', 'system_fingerprint': None, 'finish_reason': 'tool_calls', 'logprobs': None}, id='run-66e29f6c-080e-477e-9a4d-f56906e3eb11-0', tool_calls=[{'name': 'tavily_search_results_json', 'args': {'query': 'current weather in Louisiana'}, 'id': 'call_j9fWzoAmKr00Nf1yoGszf2MC', 'type': 'tool_call'}], usage_metadata={'input_tokens': 152, 'output_tokens': 23, 'total_tokens': 175, 'input_token_details': {'audio': 0, 'cache_read': 0}, 'output_token_details': {'audio': 0, 'reasoning': 0}}), ToolMessage(content='[{\\'url\\': \\'https://www.weatherapi.com/\\', \\'content\\': \"{\\'location\\': {\\'name\\': \\'Louisiana\\', \\'region\\': \\'Missouri\\', \\'country\\': \\'USA United States of America\\', \\'lat\\': 39.4411, \\'lon\\': -91.0551, \\'tz_id\\': \\'America/Chicago\\', \\'localtime_epoch\\': 1737366800, \\'localtime\\': \\'2025-01-20 03:53\\'}, \\'current\\': {\\'last_updated_epoch\\': 1737366300, \\'last_updated\\': \\'2025-01-20 03:45\\', \\'temp_c\\': -16.5, \\'temp_f\\': 2.3, \\'is_day\\': 0, \\'condition\\': {\\'text\\': \\'Clear\\', \\'icon\\': \\'//cdn.weatherapi.com/weather/64x64/night/113.png\\', \\'code\\': 1000}, \\'wind_mph\\': 6.0, \\'wind_kph\\': 9.7, \\'wind_degree\\': 292, \\'wind_dir\\': \\'WNW\\', \\'pressure_mb\\': 1034.0, \\'pressure_in\\': 30.54, \\'precip_mm\\': 0.0, \\'precip_in\\': 0.0, \\'humidity\\': 66, \\'cloud\\': 0, \\'feelslike_c\\': -22.9, \\'feelslike_f\\': -9.2, \\'windchill_c\\': -21.4, \\'windchill_f\\': -6.5, \\'heatindex_c\\': -15.2, \\'heatindex_f\\': 4.7, \\'dewpoint_c\\': -18.7, \\'dewpoint_f\\': -1.6, \\'vis_km\\': 16.0, \\'vis_miles\\': 9.0, \\'uv\\': 0.0, \\'gust_mph\\': 8.8, \\'gust_kph\\': 14.1}}\"}, {\\'url\\': \\'https://world-weather.info/forecast/usa/new_orleans/january-2025/\\', \\'content\\': \"Weather in New Orleans in January 2025 (Louisiana) - Detailed Weather Forecast for a Month Weather in New Orleans Weather in New Orleans in January 2025 New Orleans Weather Forecast for January 2025 is based on long term prognosis and previous years\\' statistical data. 1 +57°+55° 2 +61°+52° 3 +61°+55° 4 +55°+52° 5 +70°+59° 6 +57°+68° 7 +46°+45° 8 +45°+41° 9 +45°+39° 10 +45°+39° 11 +46°+37° 12 +39°+36° 13 +45°+39° 14 +59°+43° 15 +63°+55° 16 +57°+61° +57°+48° +63°+52° +61°+55° +59°+52° +61°+54° +63°+54° +61°+54° +63°+52° +63°+55° +59°+52° +59°+52° +61°+52° +61°+54° +61°+50° +66°+55° Extended weather forecast in New Orleans HourlyWeek10-Day14-Day30-DayYear Weather in Washington, D.C.+43° Slidell+46° Biloxi+46° Brookhaven+43° Gulfport+46° Hattiesburg+43° McComb+43° Pascagoula+48° Morgan City+50° Bogalusa+45° Franklin+52° Franklinton+43° Crestview+46° world\\'s temperature today Temperature units\"}]', name='tavily_search_results_json', id='fa0a5f89-2ee4-4038-9fe4-bc70d7adaa96', tool_call_id='call_j9fWzoAmKr00Nf1yoGszf2MC'), AIMessage(content='I found information about the current weather in Louisiana, not Los Angeles. The current weather in Louisiana is as follows:\\n- Temperature: 2.3°F (-16.5°C)\\n- Condition: Clear\\n- Wind: 6.0 mph (9.7 kph) from WNW\\n- Pressure: 30.54 in\\n- Humidity: 66%\\n- Visibility: 9.0 miles\\n- UV Index: 0.0\\n\\nIf you need information about the weather in Los Angeles specifically, I can search for that. Would you like me to look up the weather in Los Angeles?', additional_kwargs={'refusal': None}, response_metadata={'token_usage': {'completion_tokens': 128, 'prompt_tokens': 996, 'total_tokens': 1124, 'completion_tokens_details': {'accepted_prediction_tokens': 0, 'audio_tokens': 0, 'reasoning_tokens': 0, 'rejected_prediction_tokens': 0}, 'prompt_tokens_details': {'audio_tokens': 0, 'cached_tokens': 0}}, 'model_name': 'gpt-3.5-turbo-0125', 'system_fingerprint': None, 'finish_reason': 'stop', 'logprobs': None}, id='run-e84417ea-5928-48d7-8045-0963a38f1339-0', usage_metadata={'input_tokens': 996, 'output_tokens': 128, 'total_tokens': 1124, 'input_token_details': {'audio': 0, 'cache_read': 0}, 'output_token_details': {'audio': 0, 'reasoning': 0}})]}\n",
      "{'messages': [AIMessage(content='I found information about the current weather in Louisiana, not Los Angeles. The current weather in Louisiana is as follows:\\n- Temperature: 2.3°F (-16.5°C)\\n- Condition: Clear\\n- Wind: 6.0 mph (9.7 kph) from WNW\\n- Pressure: 30.54 in\\n- Humidity: 66%\\n- Visibility: 9.0 miles\\n- UV Index: 0.0\\n\\nIf you need information about the weather in Los Angeles specifically, I can search for that. Would you like me to look up the weather in Los Angeles?', additional_kwargs={'refusal': None}, response_metadata={'token_usage': {'completion_tokens': 128, 'prompt_tokens': 996, 'total_tokens': 1124, 'completion_tokens_details': {'accepted_prediction_tokens': 0, 'audio_tokens': 0, 'reasoning_tokens': 0, 'rejected_prediction_tokens': 0}, 'prompt_tokens_details': {'audio_tokens': 0, 'cached_tokens': 0}}, 'model_name': 'gpt-3.5-turbo-0125', 'system_fingerprint': None, 'finish_reason': 'stop', 'logprobs': None}, id='run-e84417ea-5928-48d7-8045-0963a38f1339-0', usage_metadata={'input_tokens': 996, 'output_tokens': 128, 'total_tokens': 1124, 'input_token_details': {'audio': 0, 'cache_read': 0}, 'output_token_details': {'audio': 0, 'reasoning': 0}})]}\n"
     ]
    }
   ],
   "source": [
    "for event in abot.graph.stream(None, thread):\n",
    "    for v in event.values():\n",
    "        print(v)"
   ]
  },
  {
   "cell_type": "code",
   "execution_count": 25,
   "id": "cdee093e-c41d-48f8-be03-f304467f7bba",
   "metadata": {},
   "outputs": [
    {
     "name": "stdout",
     "output_type": "stream",
     "text": [
      "StateSnapshot(values={'messages': [HumanMessage(content='Whats the weather in LA?', additional_kwargs={}, response_metadata={}, id='4ded1d4f-7078-4f0c-8d66-d64a49713440'), AIMessage(content='', additional_kwargs={'tool_calls': [{'id': 'call_j9fWzoAmKr00Nf1yoGszf2MC', 'function': {'arguments': '{\"query\":\"current weather in Los Angeles\"}', 'name': 'tavily_search_results_json'}, 'type': 'function'}], 'refusal': None}, response_metadata={'token_usage': {'completion_tokens': 23, 'prompt_tokens': 152, 'total_tokens': 175, 'completion_tokens_details': {'accepted_prediction_tokens': 0, 'audio_tokens': 0, 'reasoning_tokens': 0, 'rejected_prediction_tokens': 0}, 'prompt_tokens_details': {'audio_tokens': 0, 'cached_tokens': 0}}, 'model_name': 'gpt-3.5-turbo-0125', 'system_fingerprint': None, 'finish_reason': 'tool_calls', 'logprobs': None}, id='run-66e29f6c-080e-477e-9a4d-f56906e3eb11-0', tool_calls=[{'name': 'tavily_search_results_json', 'args': {'query': 'current weather in Louisiana'}, 'id': 'call_j9fWzoAmKr00Nf1yoGszf2MC', 'type': 'tool_call'}], usage_metadata={'input_tokens': 152, 'output_tokens': 23, 'total_tokens': 175, 'input_token_details': {'audio': 0, 'cache_read': 0}, 'output_token_details': {'audio': 0, 'reasoning': 0}}), ToolMessage(content='[{\\'url\\': \\'https://www.weatherapi.com/\\', \\'content\\': \"{\\'location\\': {\\'name\\': \\'Louisiana\\', \\'region\\': \\'Missouri\\', \\'country\\': \\'USA United States of America\\', \\'lat\\': 39.4411, \\'lon\\': -91.0551, \\'tz_id\\': \\'America/Chicago\\', \\'localtime_epoch\\': 1737366800, \\'localtime\\': \\'2025-01-20 03:53\\'}, \\'current\\': {\\'last_updated_epoch\\': 1737366300, \\'last_updated\\': \\'2025-01-20 03:45\\', \\'temp_c\\': -16.5, \\'temp_f\\': 2.3, \\'is_day\\': 0, \\'condition\\': {\\'text\\': \\'Clear\\', \\'icon\\': \\'//cdn.weatherapi.com/weather/64x64/night/113.png\\', \\'code\\': 1000}, \\'wind_mph\\': 6.0, \\'wind_kph\\': 9.7, \\'wind_degree\\': 292, \\'wind_dir\\': \\'WNW\\', \\'pressure_mb\\': 1034.0, \\'pressure_in\\': 30.54, \\'precip_mm\\': 0.0, \\'precip_in\\': 0.0, \\'humidity\\': 66, \\'cloud\\': 0, \\'feelslike_c\\': -22.9, \\'feelslike_f\\': -9.2, \\'windchill_c\\': -21.4, \\'windchill_f\\': -6.5, \\'heatindex_c\\': -15.2, \\'heatindex_f\\': 4.7, \\'dewpoint_c\\': -18.7, \\'dewpoint_f\\': -1.6, \\'vis_km\\': 16.0, \\'vis_miles\\': 9.0, \\'uv\\': 0.0, \\'gust_mph\\': 8.8, \\'gust_kph\\': 14.1}}\"}, {\\'url\\': \\'https://world-weather.info/forecast/usa/new_orleans/january-2025/\\', \\'content\\': \"Weather in New Orleans in January 2025 (Louisiana) - Detailed Weather Forecast for a Month Weather in New Orleans Weather in New Orleans in January 2025 New Orleans Weather Forecast for January 2025 is based on long term prognosis and previous years\\' statistical data. 1 +57°+55° 2 +61°+52° 3 +61°+55° 4 +55°+52° 5 +70°+59° 6 +57°+68° 7 +46°+45° 8 +45°+41° 9 +45°+39° 10 +45°+39° 11 +46°+37° 12 +39°+36° 13 +45°+39° 14 +59°+43° 15 +63°+55° 16 +57°+61° +57°+48° +63°+52° +61°+55° +59°+52° +61°+54° +63°+54° +61°+54° +63°+52° +63°+55° +59°+52° +59°+52° +61°+52° +61°+54° +61°+50° +66°+55° Extended weather forecast in New Orleans HourlyWeek10-Day14-Day30-DayYear Weather in Washington, D.C.+43° Slidell+46° Biloxi+46° Brookhaven+43° Gulfport+46° Hattiesburg+43° McComb+43° Pascagoula+48° Morgan City+50° Bogalusa+45° Franklin+52° Franklinton+43° Crestview+46° world\\'s temperature today Temperature units\"}]', name='tavily_search_results_json', id='fa0a5f89-2ee4-4038-9fe4-bc70d7adaa96', tool_call_id='call_j9fWzoAmKr00Nf1yoGszf2MC'), AIMessage(content='I found information about the current weather in Louisiana, not Los Angeles. The current weather in Louisiana is as follows:\\n- Temperature: 2.3°F (-16.5°C)\\n- Condition: Clear\\n- Wind: 6.0 mph (9.7 kph) from WNW\\n- Pressure: 30.54 in\\n- Humidity: 66%\\n- Visibility: 9.0 miles\\n- UV Index: 0.0\\n\\nIf you need information about the weather in Los Angeles specifically, I can search for that. Would you like me to look up the weather in Los Angeles?', additional_kwargs={'refusal': None}, response_metadata={'token_usage': {'completion_tokens': 128, 'prompt_tokens': 996, 'total_tokens': 1124, 'completion_tokens_details': {'accepted_prediction_tokens': 0, 'audio_tokens': 0, 'reasoning_tokens': 0, 'rejected_prediction_tokens': 0}, 'prompt_tokens_details': {'audio_tokens': 0, 'cached_tokens': 0}}, 'model_name': 'gpt-3.5-turbo-0125', 'system_fingerprint': None, 'finish_reason': 'stop', 'logprobs': None}, id='run-e84417ea-5928-48d7-8045-0963a38f1339-0', usage_metadata={'input_tokens': 996, 'output_tokens': 128, 'total_tokens': 1124, 'input_token_details': {'audio': 0, 'cache_read': 0}, 'output_token_details': {'audio': 0, 'reasoning': 0}})]}, next=(), config={'configurable': {'thread_id': '3', 'checkpoint_ns': '', 'checkpoint_id': '1efd7147-cff4-6099-8004-f259e6552362'}}, metadata={'source': 'loop', 'writes': {'llm': {'messages': [AIMessage(content='I found information about the current weather in Louisiana, not Los Angeles. The current weather in Louisiana is as follows:\\n- Temperature: 2.3°F (-16.5°C)\\n- Condition: Clear\\n- Wind: 6.0 mph (9.7 kph) from WNW\\n- Pressure: 30.54 in\\n- Humidity: 66%\\n- Visibility: 9.0 miles\\n- UV Index: 0.0\\n\\nIf you need information about the weather in Los Angeles specifically, I can search for that. Would you like me to look up the weather in Los Angeles?', additional_kwargs={'refusal': None}, response_metadata={'token_usage': {'completion_tokens': 128, 'prompt_tokens': 996, 'total_tokens': 1124, 'completion_tokens_details': {'accepted_prediction_tokens': 0, 'audio_tokens': 0, 'reasoning_tokens': 0, 'rejected_prediction_tokens': 0}, 'prompt_tokens_details': {'audio_tokens': 0, 'cached_tokens': 0}}, 'model_name': 'gpt-3.5-turbo-0125', 'system_fingerprint': None, 'finish_reason': 'stop', 'logprobs': None}, id='run-e84417ea-5928-48d7-8045-0963a38f1339-0', usage_metadata={'input_tokens': 996, 'output_tokens': 128, 'total_tokens': 1124, 'input_token_details': {'audio': 0, 'cache_read': 0}, 'output_token_details': {'audio': 0, 'reasoning': 0}})]}}, 'thread_id': '3', 'step': 4, 'parents': {}}, created_at='2025-01-20T09:54:06.819548+00:00', parent_config={'configurable': {'thread_id': '3', 'checkpoint_ns': '', 'checkpoint_id': '1efd7147-bb8b-6f02-8003-44c12bf64298'}}, tasks=())\n",
      "--\n",
      "StateSnapshot(values={'messages': [HumanMessage(content='Whats the weather in LA?', additional_kwargs={}, response_metadata={}, id='4ded1d4f-7078-4f0c-8d66-d64a49713440'), AIMessage(content='', additional_kwargs={'tool_calls': [{'id': 'call_j9fWzoAmKr00Nf1yoGszf2MC', 'function': {'arguments': '{\"query\":\"current weather in Los Angeles\"}', 'name': 'tavily_search_results_json'}, 'type': 'function'}], 'refusal': None}, response_metadata={'token_usage': {'completion_tokens': 23, 'prompt_tokens': 152, 'total_tokens': 175, 'completion_tokens_details': {'accepted_prediction_tokens': 0, 'audio_tokens': 0, 'reasoning_tokens': 0, 'rejected_prediction_tokens': 0}, 'prompt_tokens_details': {'audio_tokens': 0, 'cached_tokens': 0}}, 'model_name': 'gpt-3.5-turbo-0125', 'system_fingerprint': None, 'finish_reason': 'tool_calls', 'logprobs': None}, id='run-66e29f6c-080e-477e-9a4d-f56906e3eb11-0', tool_calls=[{'name': 'tavily_search_results_json', 'args': {'query': 'current weather in Louisiana'}, 'id': 'call_j9fWzoAmKr00Nf1yoGszf2MC', 'type': 'tool_call'}], usage_metadata={'input_tokens': 152, 'output_tokens': 23, 'total_tokens': 175, 'input_token_details': {'audio': 0, 'cache_read': 0}, 'output_token_details': {'audio': 0, 'reasoning': 0}}), ToolMessage(content='[{\\'url\\': \\'https://www.weatherapi.com/\\', \\'content\\': \"{\\'location\\': {\\'name\\': \\'Louisiana\\', \\'region\\': \\'Missouri\\', \\'country\\': \\'USA United States of America\\', \\'lat\\': 39.4411, \\'lon\\': -91.0551, \\'tz_id\\': \\'America/Chicago\\', \\'localtime_epoch\\': 1737366800, \\'localtime\\': \\'2025-01-20 03:53\\'}, \\'current\\': {\\'last_updated_epoch\\': 1737366300, \\'last_updated\\': \\'2025-01-20 03:45\\', \\'temp_c\\': -16.5, \\'temp_f\\': 2.3, \\'is_day\\': 0, \\'condition\\': {\\'text\\': \\'Clear\\', \\'icon\\': \\'//cdn.weatherapi.com/weather/64x64/night/113.png\\', \\'code\\': 1000}, \\'wind_mph\\': 6.0, \\'wind_kph\\': 9.7, \\'wind_degree\\': 292, \\'wind_dir\\': \\'WNW\\', \\'pressure_mb\\': 1034.0, \\'pressure_in\\': 30.54, \\'precip_mm\\': 0.0, \\'precip_in\\': 0.0, \\'humidity\\': 66, \\'cloud\\': 0, \\'feelslike_c\\': -22.9, \\'feelslike_f\\': -9.2, \\'windchill_c\\': -21.4, \\'windchill_f\\': -6.5, \\'heatindex_c\\': -15.2, \\'heatindex_f\\': 4.7, \\'dewpoint_c\\': -18.7, \\'dewpoint_f\\': -1.6, \\'vis_km\\': 16.0, \\'vis_miles\\': 9.0, \\'uv\\': 0.0, \\'gust_mph\\': 8.8, \\'gust_kph\\': 14.1}}\"}, {\\'url\\': \\'https://world-weather.info/forecast/usa/new_orleans/january-2025/\\', \\'content\\': \"Weather in New Orleans in January 2025 (Louisiana) - Detailed Weather Forecast for a Month Weather in New Orleans Weather in New Orleans in January 2025 New Orleans Weather Forecast for January 2025 is based on long term prognosis and previous years\\' statistical data. 1 +57°+55° 2 +61°+52° 3 +61°+55° 4 +55°+52° 5 +70°+59° 6 +57°+68° 7 +46°+45° 8 +45°+41° 9 +45°+39° 10 +45°+39° 11 +46°+37° 12 +39°+36° 13 +45°+39° 14 +59°+43° 15 +63°+55° 16 +57°+61° +57°+48° +63°+52° +61°+55° +59°+52° +61°+54° +63°+54° +61°+54° +63°+52° +63°+55° +59°+52° +59°+52° +61°+52° +61°+54° +61°+50° +66°+55° Extended weather forecast in New Orleans HourlyWeek10-Day14-Day30-DayYear Weather in Washington, D.C.+43° Slidell+46° Biloxi+46° Brookhaven+43° Gulfport+46° Hattiesburg+43° McComb+43° Pascagoula+48° Morgan City+50° Bogalusa+45° Franklin+52° Franklinton+43° Crestview+46° world\\'s temperature today Temperature units\"}]', name='tavily_search_results_json', id='fa0a5f89-2ee4-4038-9fe4-bc70d7adaa96', tool_call_id='call_j9fWzoAmKr00Nf1yoGszf2MC')]}, next=('llm',), config={'configurable': {'thread_id': '3', 'checkpoint_ns': '', 'checkpoint_id': '1efd7147-bb8b-6f02-8003-44c12bf64298'}}, metadata={'source': 'loop', 'writes': {'action': {'messages': [ToolMessage(content='[{\\'url\\': \\'https://www.weatherapi.com/\\', \\'content\\': \"{\\'location\\': {\\'name\\': \\'Louisiana\\', \\'region\\': \\'Missouri\\', \\'country\\': \\'USA United States of America\\', \\'lat\\': 39.4411, \\'lon\\': -91.0551, \\'tz_id\\': \\'America/Chicago\\', \\'localtime_epoch\\': 1737366800, \\'localtime\\': \\'2025-01-20 03:53\\'}, \\'current\\': {\\'last_updated_epoch\\': 1737366300, \\'last_updated\\': \\'2025-01-20 03:45\\', \\'temp_c\\': -16.5, \\'temp_f\\': 2.3, \\'is_day\\': 0, \\'condition\\': {\\'text\\': \\'Clear\\', \\'icon\\': \\'//cdn.weatherapi.com/weather/64x64/night/113.png\\', \\'code\\': 1000}, \\'wind_mph\\': 6.0, \\'wind_kph\\': 9.7, \\'wind_degree\\': 292, \\'wind_dir\\': \\'WNW\\', \\'pressure_mb\\': 1034.0, \\'pressure_in\\': 30.54, \\'precip_mm\\': 0.0, \\'precip_in\\': 0.0, \\'humidity\\': 66, \\'cloud\\': 0, \\'feelslike_c\\': -22.9, \\'feelslike_f\\': -9.2, \\'windchill_c\\': -21.4, \\'windchill_f\\': -6.5, \\'heatindex_c\\': -15.2, \\'heatindex_f\\': 4.7, \\'dewpoint_c\\': -18.7, \\'dewpoint_f\\': -1.6, \\'vis_km\\': 16.0, \\'vis_miles\\': 9.0, \\'uv\\': 0.0, \\'gust_mph\\': 8.8, \\'gust_kph\\': 14.1}}\"}, {\\'url\\': \\'https://world-weather.info/forecast/usa/new_orleans/january-2025/\\', \\'content\\': \"Weather in New Orleans in January 2025 (Louisiana) - Detailed Weather Forecast for a Month Weather in New Orleans Weather in New Orleans in January 2025 New Orleans Weather Forecast for January 2025 is based on long term prognosis and previous years\\' statistical data. 1 +57°+55° 2 +61°+52° 3 +61°+55° 4 +55°+52° 5 +70°+59° 6 +57°+68° 7 +46°+45° 8 +45°+41° 9 +45°+39° 10 +45°+39° 11 +46°+37° 12 +39°+36° 13 +45°+39° 14 +59°+43° 15 +63°+55° 16 +57°+61° +57°+48° +63°+52° +61°+55° +59°+52° +61°+54° +63°+54° +61°+54° +63°+52° +63°+55° +59°+52° +59°+52° +61°+52° +61°+54° +61°+50° +66°+55° Extended weather forecast in New Orleans HourlyWeek10-Day14-Day30-DayYear Weather in Washington, D.C.+43° Slidell+46° Biloxi+46° Brookhaven+43° Gulfport+46° Hattiesburg+43° McComb+43° Pascagoula+48° Morgan City+50° Bogalusa+45° Franklin+52° Franklinton+43° Crestview+46° world\\'s temperature today Temperature units\"}]', name='tavily_search_results_json', id='fa0a5f89-2ee4-4038-9fe4-bc70d7adaa96', tool_call_id='call_j9fWzoAmKr00Nf1yoGszf2MC')]}}, 'thread_id': '3', 'step': 3, 'parents': {}}, created_at='2025-01-20T09:54:04.679757+00:00', parent_config={'configurable': {'thread_id': '3', 'checkpoint_ns': '', 'checkpoint_id': '1efd7145-35ed-6572-8002-ca5c61dabe5f'}}, tasks=(PregelTask(id='ef2129bf-9694-7904-9f5d-5ea284f05d8e', name='llm', path=('__pregel_pull', 'llm'), error=None, interrupts=(), state=None, result={'messages': [AIMessage(content='I found information about the current weather in Louisiana, not Los Angeles. The current weather in Louisiana is as follows:\\n- Temperature: 2.3°F (-16.5°C)\\n- Condition: Clear\\n- Wind: 6.0 mph (9.7 kph) from WNW\\n- Pressure: 30.54 in\\n- Humidity: 66%\\n- Visibility: 9.0 miles\\n- UV Index: 0.0\\n\\nIf you need information about the weather in Los Angeles specifically, I can search for that. Would you like me to look up the weather in Los Angeles?', additional_kwargs={'refusal': None}, response_metadata={'token_usage': {'completion_tokens': 128, 'prompt_tokens': 996, 'total_tokens': 1124, 'completion_tokens_details': {'accepted_prediction_tokens': 0, 'audio_tokens': 0, 'reasoning_tokens': 0, 'rejected_prediction_tokens': 0}, 'prompt_tokens_details': {'audio_tokens': 0, 'cached_tokens': 0}}, 'model_name': 'gpt-3.5-turbo-0125', 'system_fingerprint': None, 'finish_reason': 'stop', 'logprobs': None}, id='run-e84417ea-5928-48d7-8045-0963a38f1339-0', usage_metadata={'input_tokens': 996, 'output_tokens': 128, 'total_tokens': 1124, 'input_token_details': {'audio': 0, 'cache_read': 0}, 'output_token_details': {'audio': 0, 'reasoning': 0}})]}),))\n",
      "--\n",
      "StateSnapshot(values={'messages': [HumanMessage(content='Whats the weather in LA?', additional_kwargs={}, response_metadata={}, id='4ded1d4f-7078-4f0c-8d66-d64a49713440'), AIMessage(content='', additional_kwargs={'tool_calls': [{'id': 'call_j9fWzoAmKr00Nf1yoGszf2MC', 'function': {'arguments': '{\"query\":\"current weather in Los Angeles\"}', 'name': 'tavily_search_results_json'}, 'type': 'function'}], 'refusal': None}, response_metadata={'token_usage': {'completion_tokens': 23, 'prompt_tokens': 152, 'total_tokens': 175, 'completion_tokens_details': {'accepted_prediction_tokens': 0, 'audio_tokens': 0, 'reasoning_tokens': 0, 'rejected_prediction_tokens': 0}, 'prompt_tokens_details': {'audio_tokens': 0, 'cached_tokens': 0}}, 'model_name': 'gpt-3.5-turbo-0125', 'system_fingerprint': None, 'finish_reason': 'tool_calls', 'logprobs': None}, id='run-66e29f6c-080e-477e-9a4d-f56906e3eb11-0', tool_calls=[{'name': 'tavily_search_results_json', 'args': {'query': 'current weather in Louisiana'}, 'id': 'call_j9fWzoAmKr00Nf1yoGszf2MC', 'type': 'tool_call'}], usage_metadata={'input_tokens': 152, 'output_tokens': 23, 'total_tokens': 175, 'input_token_details': {'audio': 0, 'cache_read': 0}, 'output_token_details': {'audio': 0, 'reasoning': 0}})]}, next=('action',), config={'configurable': {'thread_id': '3', 'checkpoint_ns': '', 'checkpoint_id': '1efd7145-35ed-6572-8002-ca5c61dabe5f'}}, metadata={'source': 'update', 'writes': {'llm': {'messages': [HumanMessage(content='Whats the weather in LA?', additional_kwargs={}, response_metadata={}, id='4ded1d4f-7078-4f0c-8d66-d64a49713440'), AIMessage(content='', additional_kwargs={'tool_calls': [{'id': 'call_j9fWzoAmKr00Nf1yoGszf2MC', 'function': {'arguments': '{\"query\":\"current weather in Los Angeles\"}', 'name': 'tavily_search_results_json'}, 'type': 'function'}], 'refusal': None}, response_metadata={'token_usage': {'completion_tokens': 23, 'prompt_tokens': 152, 'total_tokens': 175, 'completion_tokens_details': {'accepted_prediction_tokens': 0, 'audio_tokens': 0, 'reasoning_tokens': 0, 'rejected_prediction_tokens': 0}, 'prompt_tokens_details': {'audio_tokens': 0, 'cached_tokens': 0}}, 'model_name': 'gpt-3.5-turbo-0125', 'system_fingerprint': None, 'finish_reason': 'tool_calls', 'logprobs': None}, id='run-66e29f6c-080e-477e-9a4d-f56906e3eb11-0', tool_calls=[{'name': 'tavily_search_results_json', 'args': {'query': 'current weather in Louisiana'}, 'id': 'call_j9fWzoAmKr00Nf1yoGszf2MC', 'type': 'tool_call'}], usage_metadata={'input_tokens': 152, 'output_tokens': 23, 'total_tokens': 175, 'input_token_details': {'audio': 0, 'cache_read': 0}, 'output_token_details': {'audio': 0, 'reasoning': 0}})]}}, 'thread_id': '3', 'step': 2, 'parents': {}}, created_at='2025-01-20T09:52:56.981643+00:00', parent_config={'configurable': {'thread_id': '3', 'checkpoint_ns': '', 'checkpoint_id': '1efd713c-9785-6f64-8001-9b25baa5b918'}}, tasks=(PregelTask(id='88f760b6-0273-3110-8aa0-12a71c3ac9aa', name='action', path=('__pregel_pull', 'action'), error=None, interrupts=(), state=None, result={'messages': [ToolMessage(content='[{\\'url\\': \\'https://www.weatherapi.com/\\', \\'content\\': \"{\\'location\\': {\\'name\\': \\'Louisiana\\', \\'region\\': \\'Missouri\\', \\'country\\': \\'USA United States of America\\', \\'lat\\': 39.4411, \\'lon\\': -91.0551, \\'tz_id\\': \\'America/Chicago\\', \\'localtime_epoch\\': 1737366800, \\'localtime\\': \\'2025-01-20 03:53\\'}, \\'current\\': {\\'last_updated_epoch\\': 1737366300, \\'last_updated\\': \\'2025-01-20 03:45\\', \\'temp_c\\': -16.5, \\'temp_f\\': 2.3, \\'is_day\\': 0, \\'condition\\': {\\'text\\': \\'Clear\\', \\'icon\\': \\'//cdn.weatherapi.com/weather/64x64/night/113.png\\', \\'code\\': 1000}, \\'wind_mph\\': 6.0, \\'wind_kph\\': 9.7, \\'wind_degree\\': 292, \\'wind_dir\\': \\'WNW\\', \\'pressure_mb\\': 1034.0, \\'pressure_in\\': 30.54, \\'precip_mm\\': 0.0, \\'precip_in\\': 0.0, \\'humidity\\': 66, \\'cloud\\': 0, \\'feelslike_c\\': -22.9, \\'feelslike_f\\': -9.2, \\'windchill_c\\': -21.4, \\'windchill_f\\': -6.5, \\'heatindex_c\\': -15.2, \\'heatindex_f\\': 4.7, \\'dewpoint_c\\': -18.7, \\'dewpoint_f\\': -1.6, \\'vis_km\\': 16.0, \\'vis_miles\\': 9.0, \\'uv\\': 0.0, \\'gust_mph\\': 8.8, \\'gust_kph\\': 14.1}}\"}, {\\'url\\': \\'https://world-weather.info/forecast/usa/new_orleans/january-2025/\\', \\'content\\': \"Weather in New Orleans in January 2025 (Louisiana) - Detailed Weather Forecast for a Month Weather in New Orleans Weather in New Orleans in January 2025 New Orleans Weather Forecast for January 2025 is based on long term prognosis and previous years\\' statistical data. 1 +57°+55° 2 +61°+52° 3 +61°+55° 4 +55°+52° 5 +70°+59° 6 +57°+68° 7 +46°+45° 8 +45°+41° 9 +45°+39° 10 +45°+39° 11 +46°+37° 12 +39°+36° 13 +45°+39° 14 +59°+43° 15 +63°+55° 16 +57°+61° +57°+48° +63°+52° +61°+55° +59°+52° +61°+54° +63°+54° +61°+54° +63°+52° +63°+55° +59°+52° +59°+52° +61°+52° +61°+54° +61°+50° +66°+55° Extended weather forecast in New Orleans HourlyWeek10-Day14-Day30-DayYear Weather in Washington, D.C.+43° Slidell+46° Biloxi+46° Brookhaven+43° Gulfport+46° Hattiesburg+43° McComb+43° Pascagoula+48° Morgan City+50° Bogalusa+45° Franklin+52° Franklinton+43° Crestview+46° world\\'s temperature today Temperature units\"}]', name='tavily_search_results_json', tool_call_id='call_j9fWzoAmKr00Nf1yoGszf2MC')]}),))\n",
      "--\n",
      "StateSnapshot(values={'messages': [HumanMessage(content='Whats the weather in LA?', additional_kwargs={}, response_metadata={}, id='4ded1d4f-7078-4f0c-8d66-d64a49713440'), AIMessage(content='', additional_kwargs={'tool_calls': [{'id': 'call_j9fWzoAmKr00Nf1yoGszf2MC', 'function': {'arguments': '{\"query\":\"current weather in Los Angeles\"}', 'name': 'tavily_search_results_json'}, 'type': 'function'}], 'refusal': None}, response_metadata={'token_usage': {'completion_tokens': 23, 'prompt_tokens': 152, 'total_tokens': 175, 'completion_tokens_details': {'accepted_prediction_tokens': 0, 'audio_tokens': 0, 'reasoning_tokens': 0, 'rejected_prediction_tokens': 0}, 'prompt_tokens_details': {'audio_tokens': 0, 'cached_tokens': 0}}, 'model_name': 'gpt-3.5-turbo-0125', 'system_fingerprint': None, 'finish_reason': 'tool_calls', 'logprobs': None}, id='run-66e29f6c-080e-477e-9a4d-f56906e3eb11-0', tool_calls=[{'name': 'tavily_search_results_json', 'args': {'query': 'current weather in Los Angeles'}, 'id': 'call_j9fWzoAmKr00Nf1yoGszf2MC', 'type': 'tool_call'}], usage_metadata={'input_tokens': 152, 'output_tokens': 23, 'total_tokens': 175, 'input_token_details': {'audio': 0, 'cache_read': 0}, 'output_token_details': {'audio': 0, 'reasoning': 0}})]}, next=('action',), config={'configurable': {'thread_id': '3', 'checkpoint_ns': '', 'checkpoint_id': '1efd713c-9785-6f64-8001-9b25baa5b918'}}, metadata={'source': 'loop', 'writes': {'llm': {'messages': [AIMessage(content='', additional_kwargs={'tool_calls': [{'id': 'call_j9fWzoAmKr00Nf1yoGszf2MC', 'function': {'arguments': '{\"query\":\"current weather in Los Angeles\"}', 'name': 'tavily_search_results_json'}, 'type': 'function'}], 'refusal': None}, response_metadata={'token_usage': {'completion_tokens': 23, 'prompt_tokens': 152, 'total_tokens': 175, 'completion_tokens_details': {'accepted_prediction_tokens': 0, 'audio_tokens': 0, 'reasoning_tokens': 0, 'rejected_prediction_tokens': 0}, 'prompt_tokens_details': {'audio_tokens': 0, 'cached_tokens': 0}}, 'model_name': 'gpt-3.5-turbo-0125', 'system_fingerprint': None, 'finish_reason': 'tool_calls', 'logprobs': None}, id='run-66e29f6c-080e-477e-9a4d-f56906e3eb11-0', tool_calls=[{'name': 'tavily_search_results_json', 'args': {'query': 'current weather in Los Angeles'}, 'id': 'call_j9fWzoAmKr00Nf1yoGszf2MC', 'type': 'tool_call'}], usage_metadata={'input_tokens': 152, 'output_tokens': 23, 'total_tokens': 175, 'input_token_details': {'audio': 0, 'cache_read': 0}, 'output_token_details': {'audio': 0, 'reasoning': 0}})]}}, 'thread_id': '3', 'step': 1, 'parents': {}}, created_at='2025-01-20T09:49:05.623434+00:00', parent_config={'configurable': {'thread_id': '3', 'checkpoint_ns': '', 'checkpoint_id': '1efd713c-8a65-6767-8000-d5e13c2cc5c7'}}, tasks=(PregelTask(id='09e7144d-87f1-5b74-80cb-bf1f9d937db6', name='action', path=('__pregel_pull', 'action'), error=None, interrupts=(), state=None, result=None),))\n",
      "--\n",
      "StateSnapshot(values={'messages': [HumanMessage(content='Whats the weather in LA?', additional_kwargs={}, response_metadata={}, id='4ded1d4f-7078-4f0c-8d66-d64a49713440')]}, next=('llm',), config={'configurable': {'thread_id': '3', 'checkpoint_ns': '', 'checkpoint_id': '1efd713c-8a65-6767-8000-d5e13c2cc5c7'}}, metadata={'source': 'loop', 'writes': None, 'thread_id': '3', 'step': 0, 'parents': {}}, created_at='2025-01-20T09:49:04.246973+00:00', parent_config={'configurable': {'thread_id': '3', 'checkpoint_ns': '', 'checkpoint_id': '1efd713c-8a57-60de-bfff-27fd4101e28b'}}, tasks=(PregelTask(id='7af43516-f5f2-067a-b416-7d91a93411e1', name='llm', path=('__pregel_pull', 'llm'), error=None, interrupts=(), state=None, result={'messages': [AIMessage(content='', additional_kwargs={'tool_calls': [{'id': 'call_j9fWzoAmKr00Nf1yoGszf2MC', 'function': {'arguments': '{\"query\":\"current weather in Los Angeles\"}', 'name': 'tavily_search_results_json'}, 'type': 'function'}], 'refusal': None}, response_metadata={'token_usage': {'completion_tokens': 23, 'prompt_tokens': 152, 'total_tokens': 175, 'completion_tokens_details': {'accepted_prediction_tokens': 0, 'audio_tokens': 0, 'reasoning_tokens': 0, 'rejected_prediction_tokens': 0}, 'prompt_tokens_details': {'audio_tokens': 0, 'cached_tokens': 0}}, 'model_name': 'gpt-3.5-turbo-0125', 'system_fingerprint': None, 'finish_reason': 'tool_calls', 'logprobs': None}, id='run-66e29f6c-080e-477e-9a4d-f56906e3eb11-0', tool_calls=[{'name': 'tavily_search_results_json', 'args': {'query': 'current weather in Los Angeles'}, 'id': 'call_j9fWzoAmKr00Nf1yoGszf2MC', 'type': 'tool_call'}], usage_metadata={'input_tokens': 152, 'output_tokens': 23, 'total_tokens': 175, 'input_token_details': {'audio': 0, 'cache_read': 0}, 'output_token_details': {'audio': 0, 'reasoning': 0}})]}),))\n",
      "--\n",
      "StateSnapshot(values={'messages': []}, next=('__start__',), config={'configurable': {'thread_id': '3', 'checkpoint_ns': '', 'checkpoint_id': '1efd713c-8a57-60de-bfff-27fd4101e28b'}}, metadata={'source': 'input', 'writes': {'__start__': {'messages': [HumanMessage(content='Whats the weather in LA?', additional_kwargs={}, response_metadata={})]}}, 'thread_id': '3', 'step': -1, 'parents': {}}, created_at='2025-01-20T09:49:04.241071+00:00', parent_config=None, tasks=(PregelTask(id='89c1b504-5c8d-c3e1-c819-4adaceaf809c', name='__start__', path=('__pregel_pull', '__start__'), error=None, interrupts=(), state=None, result={'messages': [HumanMessage(content='Whats the weather in LA?', additional_kwargs={}, response_metadata={})]}),))\n",
      "--\n"
     ]
    }
   ],
   "source": [
    "#time travel\n",
    "states = []\n",
    "for state in abot.graph.get_state_history(thread):\n",
    "    print(state)\n",
    "    print('--')\n",
    "    states.append(state)"
   ]
  },
  {
   "cell_type": "code",
   "execution_count": 26,
   "id": "134f6001-5286-4263-9f2c-c47e81a82b78",
   "metadata": {},
   "outputs": [],
   "source": [
    "to_replay = states[-3]"
   ]
  },
  {
   "cell_type": "code",
   "execution_count": 27,
   "id": "dea62fa4-558f-4bbd-8c2e-a82f51d340a2",
   "metadata": {},
   "outputs": [
    {
     "name": "stdout",
     "output_type": "stream",
     "text": [
      "Calling: {'name': 'tavily_search_results_json', 'args': {'query': 'current weather in Los Angeles'}, 'id': 'call_j9fWzoAmKr00Nf1yoGszf2MC', 'type': 'tool_call'}\n",
      "Back to the model!\n",
      "{'messages': [ToolMessage(content='[{\\'url\\': \\'https://www.weatherapi.com/\\', \\'content\\': \"{\\'location\\': {\\'name\\': \\'Los Angeles\\', \\'region\\': \\'California\\', \\'country\\': \\'United States of America\\', \\'lat\\': 34.0522, \\'lon\\': -118.2428, \\'tz_id\\': \\'America/Los_Angeles\\', \\'localtime_epoch\\': 1737366899, \\'localtime\\': \\'2025-01-20 01:54\\'}, \\'current\\': {\\'last_updated_epoch\\': 1737366300, \\'last_updated\\': \\'2025-01-20 01:45\\', \\'temp_c\\': 12.8, \\'temp_f\\': 55.0, \\'is_day\\': 0, \\'condition\\': {\\'text\\': \\'Overcast\\', \\'icon\\': \\'//cdn.weatherapi.com/weather/64x64/night/122.png\\', \\'code\\': 1009}, \\'wind_mph\\': 3.6, \\'wind_kph\\': 5.8, \\'wind_degree\\': 104, \\'wind_dir\\': \\'ESE\\', \\'pressure_mb\\': 1020.0, \\'pressure_in\\': 30.13, \\'precip_mm\\': 0.0, \\'precip_in\\': 0.0, \\'humidity\\': 69, \\'cloud\\': 100, \\'feelslike_c\\': 12.8, \\'feelslike_f\\': 55.0, \\'windchill_c\\': 9.5, \\'windchill_f\\': 49.1, \\'heatindex_c\\': 9.5, \\'heatindex_f\\': 49.1, \\'dewpoint_c\\': 8.7, \\'dewpoint_f\\': 47.7, \\'vis_km\\': 16.0, \\'vis_miles\\': 9.0, \\'uv\\': 0.0, \\'gust_mph\\': 5.3, \\'gust_kph\\': 8.5}}\"}, {\\'url\\': \\'https://world-weather.info/forecast/usa/los_angeles/january-2025/\\', \\'content\\': \"Weather in Los Angeles in January 2025 (California) - Detailed Weather Forecast for a Month Weather Weather in Los Angeles Weather in Los Angeles in January 2025 Los Angeles Weather Forecast for January 2025, is based on previous years\\' statistical data. +61°+50° +63°+52° +63°+52° +63°+52° +64°+55° +64°+54° +64°+55° +64°+55° +64°+55° +64°+54° +64°+54° +63°+52° +64°+54° +66°+54° +66°+54° +64°+55° +66°+55° +66°+55° +64°+54° +63°+54° +63°+54° +64°+54° +64°+54° +63°+52° +64°+54° +64°+54° +68°+55° +68°+54° +66°+54° +66°+54° +66°+55° Extended weather forecast in Los Angeles HourlyWeek10 days14 days30 daysYear Weather in large and nearby cities Weather in Washington, D.C.+64° Sacramento+66° Monterey Park+61° North Glendale+63° Norwalk+61° Pasadena+63° Rosemead+61° Santa Monica+61° Manhattan Beach+63° Inglewood+61° Bellflower+61° Beverly Hills+59° Burbank+63° Compton+61° Rancho Dominguez+61° world\\'s temperature today day day Temperature units\"}]', name='tavily_search_results_json', id='9338a67a-227c-473b-a355-df26742f6cbd', tool_call_id='call_j9fWzoAmKr00Nf1yoGszf2MC')]}\n",
      "{'messages': [HumanMessage(content='Whats the weather in LA?', additional_kwargs={}, response_metadata={}, id='4ded1d4f-7078-4f0c-8d66-d64a49713440'), AIMessage(content='', additional_kwargs={'tool_calls': [{'id': 'call_j9fWzoAmKr00Nf1yoGszf2MC', 'function': {'arguments': '{\"query\":\"current weather in Los Angeles\"}', 'name': 'tavily_search_results_json'}, 'type': 'function'}], 'refusal': None}, response_metadata={'token_usage': {'completion_tokens': 23, 'prompt_tokens': 152, 'total_tokens': 175, 'completion_tokens_details': {'accepted_prediction_tokens': 0, 'audio_tokens': 0, 'reasoning_tokens': 0, 'rejected_prediction_tokens': 0}, 'prompt_tokens_details': {'audio_tokens': 0, 'cached_tokens': 0}}, 'model_name': 'gpt-3.5-turbo-0125', 'system_fingerprint': None, 'finish_reason': 'tool_calls', 'logprobs': None}, id='run-66e29f6c-080e-477e-9a4d-f56906e3eb11-0', tool_calls=[{'name': 'tavily_search_results_json', 'args': {'query': 'current weather in Los Angeles'}, 'id': 'call_j9fWzoAmKr00Nf1yoGszf2MC', 'type': 'tool_call'}], usage_metadata={'input_tokens': 152, 'output_tokens': 23, 'total_tokens': 175, 'input_token_details': {'audio': 0, 'cache_read': 0}, 'output_token_details': {'audio': 0, 'reasoning': 0}}), ToolMessage(content='[{\\'url\\': \\'https://www.weatherapi.com/\\', \\'content\\': \"{\\'location\\': {\\'name\\': \\'Los Angeles\\', \\'region\\': \\'California\\', \\'country\\': \\'United States of America\\', \\'lat\\': 34.0522, \\'lon\\': -118.2428, \\'tz_id\\': \\'America/Los_Angeles\\', \\'localtime_epoch\\': 1737366899, \\'localtime\\': \\'2025-01-20 01:54\\'}, \\'current\\': {\\'last_updated_epoch\\': 1737366300, \\'last_updated\\': \\'2025-01-20 01:45\\', \\'temp_c\\': 12.8, \\'temp_f\\': 55.0, \\'is_day\\': 0, \\'condition\\': {\\'text\\': \\'Overcast\\', \\'icon\\': \\'//cdn.weatherapi.com/weather/64x64/night/122.png\\', \\'code\\': 1009}, \\'wind_mph\\': 3.6, \\'wind_kph\\': 5.8, \\'wind_degree\\': 104, \\'wind_dir\\': \\'ESE\\', \\'pressure_mb\\': 1020.0, \\'pressure_in\\': 30.13, \\'precip_mm\\': 0.0, \\'precip_in\\': 0.0, \\'humidity\\': 69, \\'cloud\\': 100, \\'feelslike_c\\': 12.8, \\'feelslike_f\\': 55.0, \\'windchill_c\\': 9.5, \\'windchill_f\\': 49.1, \\'heatindex_c\\': 9.5, \\'heatindex_f\\': 49.1, \\'dewpoint_c\\': 8.7, \\'dewpoint_f\\': 47.7, \\'vis_km\\': 16.0, \\'vis_miles\\': 9.0, \\'uv\\': 0.0, \\'gust_mph\\': 5.3, \\'gust_kph\\': 8.5}}\"}, {\\'url\\': \\'https://world-weather.info/forecast/usa/los_angeles/january-2025/\\', \\'content\\': \"Weather in Los Angeles in January 2025 (California) - Detailed Weather Forecast for a Month Weather Weather in Los Angeles Weather in Los Angeles in January 2025 Los Angeles Weather Forecast for January 2025, is based on previous years\\' statistical data. +61°+50° +63°+52° +63°+52° +63°+52° +64°+55° +64°+54° +64°+55° +64°+55° +64°+55° +64°+54° +64°+54° +63°+52° +64°+54° +66°+54° +66°+54° +64°+55° +66°+55° +66°+55° +64°+54° +63°+54° +63°+54° +64°+54° +64°+54° +63°+52° +64°+54° +64°+54° +68°+55° +68°+54° +66°+54° +66°+54° +66°+55° Extended weather forecast in Los Angeles HourlyWeek10 days14 days30 daysYear Weather in large and nearby cities Weather in Washington, D.C.+64° Sacramento+66° Monterey Park+61° North Glendale+63° Norwalk+61° Pasadena+63° Rosemead+61° Santa Monica+61° Manhattan Beach+63° Inglewood+61° Bellflower+61° Beverly Hills+59° Burbank+63° Compton+61° Rancho Dominguez+61° world\\'s temperature today day day Temperature units\"}]', name='tavily_search_results_json', id='9338a67a-227c-473b-a355-df26742f6cbd', tool_call_id='call_j9fWzoAmKr00Nf1yoGszf2MC'), AIMessage(content='The current weather in Los Angeles is overcast with a temperature of 55.0°F (12.8°C). The wind speed is around 5.8 km/h coming from the ESE direction, and the humidity is at 69%.', additional_kwargs={'refusal': None}, response_metadata={'token_usage': {'completion_tokens': 52, 'prompt_tokens': 979, 'total_tokens': 1031, 'completion_tokens_details': {'accepted_prediction_tokens': 0, 'audio_tokens': 0, 'reasoning_tokens': 0, 'rejected_prediction_tokens': 0}, 'prompt_tokens_details': {'audio_tokens': 0, 'cached_tokens': 0}}, 'model_name': 'gpt-3.5-turbo-0125', 'system_fingerprint': None, 'finish_reason': 'stop', 'logprobs': None}, id='run-34009164-1875-442f-b098-091bbee7a1bf-0', usage_metadata={'input_tokens': 979, 'output_tokens': 52, 'total_tokens': 1031, 'input_token_details': {'audio': 0, 'cache_read': 0}, 'output_token_details': {'audio': 0, 'reasoning': 0}})]}\n",
      "{'messages': [AIMessage(content='The current weather in Los Angeles is overcast with a temperature of 55.0°F (12.8°C). The wind speed is around 5.8 km/h coming from the ESE direction, and the humidity is at 69%.', additional_kwargs={'refusal': None}, response_metadata={'token_usage': {'completion_tokens': 52, 'prompt_tokens': 979, 'total_tokens': 1031, 'completion_tokens_details': {'accepted_prediction_tokens': 0, 'audio_tokens': 0, 'reasoning_tokens': 0, 'rejected_prediction_tokens': 0}, 'prompt_tokens_details': {'audio_tokens': 0, 'cached_tokens': 0}}, 'model_name': 'gpt-3.5-turbo-0125', 'system_fingerprint': None, 'finish_reason': 'stop', 'logprobs': None}, id='run-34009164-1875-442f-b098-091bbee7a1bf-0', usage_metadata={'input_tokens': 979, 'output_tokens': 52, 'total_tokens': 1031, 'input_token_details': {'audio': 0, 'cache_read': 0}, 'output_token_details': {'audio': 0, 'reasoning': 0}})]}\n"
     ]
    }
   ],
   "source": [
    "for event in abot.graph.stream(None, to_replay.config):\n",
    "    for k, v in event.items():\n",
    "        print(v)"
   ]
  },
  {
   "cell_type": "code",
   "execution_count": null,
   "id": "28028822-50ce-4eef-a0b9-81231f5b9fd4",
   "metadata": {},
   "outputs": [],
   "source": []
  }
 ],
 "metadata": {
  "kernelspec": {
   "display_name": "Python 3 (ipykernel)",
   "language": "python",
   "name": "python3"
  },
  "language_info": {
   "codemirror_mode": {
    "name": "ipython",
    "version": 3
   },
   "file_extension": ".py",
   "mimetype": "text/x-python",
   "name": "python",
   "nbconvert_exporter": "python",
   "pygments_lexer": "ipython3",
   "version": "3.12.7"
  }
 },
 "nbformat": 4,
 "nbformat_minor": 5
}
