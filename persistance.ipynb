{
 "cells": [
  {
   "cell_type": "code",
   "execution_count": 54,
   "id": "04e76e6c-7979-4db4-859e-0288a3534708",
   "metadata": {},
   "outputs": [],
   "source": [
    "# from dotenv import load_dotenv\n",
    "\n",
    "# _ = load_dotenv()\n"
   ]
  },
  {
   "cell_type": "code",
   "execution_count": 81,
   "id": "f42af296-4775-4b10-a9e9-ce4f6876805e",
   "metadata": {},
   "outputs": [],
   "source": [
    "from langgraph.graph import StateGraph, END\n",
    "from typing import TypedDict, Annotated\n",
    "import operator\n",
    "from langchain_core.messages import AnyMessage, SystemMessage, HumanMessage, ToolMessage\n",
    "from langchain_openai import ChatOpenAI\n",
    "from langchain_community.tools.tavily_search import TavilySearchResults\n",
    "import os\n",
    "from dotenv import load_dotenv\n",
    "from contextlib import ExitStack"
   ]
  },
  {
   "cell_type": "code",
   "execution_count": 82,
   "id": "69770eec-2877-47dc-b2c7-964a073bee8e",
   "metadata": {},
   "outputs": [
    {
     "name": "stdout",
     "output_type": "stream",
     "text": [
      "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\n"
     ]
    }
   ],
   "source": [
    "load_dotenv(override = True)\n",
    "Tavily_api_key=os.environ.get(\"TAVILY_API_KEY\")\n",

    "openai_api_key=os.environ.get(\"OPENAI_API_KEY\")\n"

   ]
  },
  {
   "cell_type": "code",
   "execution_count": 83,
   "id": "aeb95453-b0f7-4d8d-9daf-d8aa8557fdcb",
   "metadata": {},
   "outputs": [],
   "source": [
    "tool = TavilySearchResults(max_results=2)"
   ]
  },
  {
   "cell_type": "code",
   "execution_count": 84,
   "id": "0455ef7c-0431-44ad-a35c-b1eb4a12cd7f",
   "metadata": {},
   "outputs": [],
   "source": [
    "class AgentState(TypedDict):\n",
    "    messages: Annotated[list[AnyMessage], operator.add]"
   ]
  },
  {
   "cell_type": "code",
   "execution_count": 85,
   "id": "5d0c0015-adfb-409c-972c-55f2bdbc0ce6",
   "metadata": {},
   "outputs": [],
   "source": [
    "from langgraph.checkpoint.sqlite import SqliteSaver\n",
    "stack = ExitStack()\n",
    "memory = stack.enter_context(SqliteSaver.from_conn_string(\":memory:\"))"
   ]
  },
  {
   "cell_type": "code",
   "execution_count": 86,
   "id": "01798775-a2ba-478f-9fc3-862422ef8250",
   "metadata": {},
   "outputs": [],
   "source": [
    "class Agent:\n",
    "    def __init__(self, model, tools, checkpointer, system=\"\"):\n",
    "        self.system = system\n",
    "        graph = StateGraph(AgentState)\n",
    "        graph.add_node(\"llm\", self.call_openai)\n",
    "        graph.add_node(\"action\", self.take_action)\n",
    "        graph.add_conditional_edges(\"llm\", self.exists_action, {True: \"action\", False: END})\n",
    "        graph.add_edge(\"action\", \"llm\")\n",
    "        graph.set_entry_point(\"llm\")\n",
    "        self.graph = graph.compile(checkpointer=checkpointer)\n",
    "        self.tools = {t.name: t for t in tools}\n",
    "        self.model = model.bind_tools(tools)\n",
    "\n",
    "    def call_openai(self, state: AgentState):\n",
    "        messages = state['messages']\n",
    "        if self.system:\n",
    "            messages = [SystemMessage(content=self.system)] + messages\n",
    "        message = self.model.invoke(messages)\n",
    "        return {'messages': [message]}\n",
    "\n",
    "    def exists_action(self, state: AgentState):\n",
    "        result = state['messages'][-1]\n",
    "        return len(result.tool_calls) > 0\n",
    "\n",
    "    def take_action(self, state: AgentState):\n",
    "        tool_calls = state['messages'][-1].tool_calls\n",
    "        results = []\n",
    "        for t in tool_calls:\n",
    "            print(f\"Calling: {t}\")\n",
    "            result = self.tools[t['name']].invoke(t['args'])\n",
    "            results.append(ToolMessage(tool_call_id=t['id'], name=t['name'], content=str(result)))\n",
    "        print(\"Back to the model!\")\n",
    "        return {'messages': results}"
   ]
  },
  {
   "cell_type": "code",
   "execution_count": 87,
   "id": "0e9849cb-12c1-4a6b-b981-b88f20b4a68a",
   "metadata": {},
   "outputs": [],
   "source": [
    "prompt = \"\"\"You are a smart research assistant. Use the search engine to look up information. \\\n",
    "You are allowed to make multiple calls (either together or in sequence). \\\n",
    "Only look up information when you are sure of what you want. \\\n",
    "If you need to look up some information before asking a follow up question, you are allowed to do that!\n",
    "\"\"\"\n",
    "model = ChatOpenAI(model=\"gpt-4o\")\n"
   ]
  },
  {
   "cell_type": "code",
   "execution_count": 88,
   "id": "d81f8eb6-dc81-4a5a-b257-06126cb55d82",
   "metadata": {},
   "outputs": [],
   "source": [
    "abot = Agent(model, [tool], system=prompt, checkpointer=memory)\n",
    "messages = [HumanMessage(content=\"What is the weather in sf?\")]"
   ]
  },
  {
   "cell_type": "code",
   "execution_count": null,
   "id": "470ec4a6-2d76-4806-ab1d-44705691fc7e",
   "metadata": {},
   "outputs": [],
   "source": []
  },
  {
   "cell_type": "code",
   "execution_count": 89,
   "id": "38cdf6da-1ecf-47ba-a442-a711bfe0d97e",
   "metadata": {},
   "outputs": [],
   "source": [
    "thread = {\"configurable\": {\"thread_id\": \"1\"}}"
   ]
  },
  {
   "cell_type": "code",
   "execution_count": 90,
   "id": "f3d03709-034f-4454-9294-da0578cb17cd",
   "metadata": {},
   "outputs": [
    {
     "name": "stdout",
     "output_type": "stream",
     "text": [
      "{'messages': [AIMessage(content='', additional_kwargs={'tool_calls': [{'id': 'call_MMiGSW8WDGH5B3PYSOt1KpDx', 'function': {'arguments': '{\"query\":\"San Francisco weather forecast\"}', 'name': 'tavily_search_results_json'}, 'type': 'function'}], 'refusal': None}, response_metadata={'token_usage': {'completion_tokens': 22, 'prompt_tokens': 151, 'total_tokens': 173, 'completion_tokens_details': {'accepted_prediction_tokens': 0, 'audio_tokens': 0, 'reasoning_tokens': 0, 'rejected_prediction_tokens': 0}, 'prompt_tokens_details': {'audio_tokens': 0, 'cached_tokens': 0}}, 'model_name': 'gpt-4o-2024-08-06', 'system_fingerprint': 'fp_4691090a87', 'finish_reason': 'tool_calls', 'logprobs': None}, id='run-1eeef225-0678-43c0-88c9-d4bfa40fc574-0', tool_calls=[{'name': 'tavily_search_results_json', 'args': {'query': 'San Francisco weather forecast'}, 'id': 'call_MMiGSW8WDGH5B3PYSOt1KpDx', 'type': 'tool_call'}], usage_metadata={'input_tokens': 151, 'output_tokens': 22, 'total_tokens': 173, 'input_token_details': {'audio': 0, 'cache_read': 0}, 'output_token_details': {'audio': 0, 'reasoning': 0}})]}\n",
      "Calling: {'name': 'tavily_search_results_json', 'args': {'query': 'San Francisco weather forecast'}, 'id': 'call_MMiGSW8WDGH5B3PYSOt1KpDx', 'type': 'tool_call'}\n",
      "Back to the model!\n",
      "{'messages': [ToolMessage(content='[{\\'url\\': \\'https://www.weatherapi.com/\\', \\'content\\': \"{\\'location\\': {\\'name\\': \\'San Francisco\\', \\'region\\': \\'California\\', \\'country\\': \\'United States of America\\', \\'lat\\': 37.775, \\'lon\\': -122.4183, \\'tz_id\\': \\'America/Los_Angeles\\', \\'localtime_epoch\\': 1737358068, \\'localtime\\': \\'2025-01-19 23:27\\'}, \\'current\\': {\\'last_updated_epoch\\': 1737357300, \\'last_updated\\': \\'2025-01-19 23:15\\', \\'temp_c\\': 8.9, \\'temp_f\\': 48.0, \\'is_day\\': 0, \\'condition\\': {\\'text\\': \\'Overcast\\', \\'icon\\': \\'//cdn.weatherapi.com/weather/64x64/night/122.png\\', \\'code\\': 1009}, \\'wind_mph\\': 3.4, \\'wind_kph\\': 5.4, \\'wind_degree\\': 287, \\'wind_dir\\': \\'WNW\\', \\'pressure_mb\\': 1022.0, \\'pressure_in\\': 30.19, \\'precip_mm\\': 0.0, \\'precip_in\\': 0.0, \\'humidity\\': 86, \\'cloud\\': 100, \\'feelslike_c\\': 8.4, \\'feelslike_f\\': 47.1, \\'windchill_c\\': 8.1, \\'windchill_f\\': 46.5, \\'heatindex_c\\': 8.9, \\'heatindex_f\\': 48.1, \\'dewpoint_c\\': 7.3, \\'dewpoint_f\\': 45.1, \\'vis_km\\': 16.0, \\'vis_miles\\': 9.0, \\'uv\\': 0.0, \\'gust_mph\\': 5.3, \\'gust_kph\\': 8.5}}\"}, {\\'url\\': \\'https://weathershogun.com/weather/usa/ca/san-francisco/480/january/2025-01-20\\', \\'content\\': \"Monday, January 20, 2025. San Francisco, CA - Weather Forecast San Francisco, CA Home Contact Browse States Privacy Policy Terms and Conditions °F) °C) Today Tomorrow Hourly 7 days 30 days January San Francisco, California Weather: Beach Hazards Statement (Potential hazards at beaches, such as dangerous currents, high surf, or unexpected waves.) Monday, January 20, 2025 Day 64° Night 41° Precipitation 0 % Wind 12 mph UV Index (0 - 11+) 3 Tuesday Hourly Today Tomorrow 7 days 30 days Weather Forecast History Last Year\\'s Weather on This Day (January 20, 2024) Day 59° Night 45° Wind 4 mph UV Index Precipitation Please note that while we strive for accuracy, the information provided may not always be correct.\"}]', name='tavily_search_results_json', tool_call_id='call_MMiGSW8WDGH5B3PYSOt1KpDx')]}\n",
      "{'messages': [AIMessage(content='The current weather in San Francisco, California is overcast with a temperature of approximately 48.0°F (8.9°C). The wind is coming from the west-northwest at 3.4 mph (5.4 kph), and the humidity level is at 86%. There is no precipitation, and visibility is around 16 kilometers (9 miles).', additional_kwargs={'refusal': None}, response_metadata={'token_usage': {'completion_tokens': 77, 'prompt_tokens': 803, 'total_tokens': 880, 'completion_tokens_details': {'accepted_prediction_tokens': 0, 'audio_tokens': 0, 'reasoning_tokens': 0, 'rejected_prediction_tokens': 0}, 'prompt_tokens_details': {'audio_tokens': 0, 'cached_tokens': 0}}, 'model_name': 'gpt-4o-2024-08-06', 'system_fingerprint': 'fp_4691090a87', 'finish_reason': 'stop', 'logprobs': None}, id='run-0264601f-4a77-4c01-8248-1fd50420abbb-0', usage_metadata={'input_tokens': 803, 'output_tokens': 77, 'total_tokens': 880, 'input_token_details': {'audio': 0, 'cache_read': 0}, 'output_token_details': {'audio': 0, 'reasoning': 0}})]}\n"
     ]
    }
   ],
   "source": [
    "for event in abot.graph.stream({\"messages\": messages}, thread):\n",
    "    for v in event.values():\n",
    "        print(v)\n",
    "# result = abot.graph.invoke({\"messages\": messages})\n",
    "# print(result['messages'][-1].content)"
   ]
  },
  {
   "cell_type": "code",
   "execution_count": 91,
   "id": "255ab48f-e405-4c40-8415-f71855210e72",
   "metadata": {},
   "outputs": [
    {
     "name": "stdout",
     "output_type": "stream",
     "text": [
      "{'messages': [AIMessage(content='', additional_kwargs={'tool_calls': [{'id': 'call_se9rR9k6dwuGBbNzcvX2Lz08', 'function': {'arguments': '{\"query\":\"Los Angeles weather forecast\"}', 'name': 'tavily_search_results_json'}, 'type': 'function'}], 'refusal': None}, response_metadata={'token_usage': {'completion_tokens': 22, 'prompt_tokens': 891, 'total_tokens': 913, 'completion_tokens_details': {'accepted_prediction_tokens': 0, 'audio_tokens': 0, 'reasoning_tokens': 0, 'rejected_prediction_tokens': 0}, 'prompt_tokens_details': {'audio_tokens': 0, 'cached_tokens': 0}}, 'model_name': 'gpt-4o-2024-08-06', 'system_fingerprint': 'fp_4691090a87', 'finish_reason': 'tool_calls', 'logprobs': None}, id='run-ffb42ef6-c184-45c5-8093-d602014738ba-0', tool_calls=[{'name': 'tavily_search_results_json', 'args': {'query': 'Los Angeles weather forecast'}, 'id': 'call_se9rR9k6dwuGBbNzcvX2Lz08', 'type': 'tool_call'}], usage_metadata={'input_tokens': 891, 'output_tokens': 22, 'total_tokens': 913, 'input_token_details': {'audio': 0, 'cache_read': 0}, 'output_token_details': {'audio': 0, 'reasoning': 0}})]}\n",
      "Calling: {'name': 'tavily_search_results_json', 'args': {'query': 'Los Angeles weather forecast'}, 'id': 'call_se9rR9k6dwuGBbNzcvX2Lz08', 'type': 'tool_call'}\n",
      "Back to the model!\n",
      "{'messages': [ToolMessage(content='[{\\'url\\': \\'https://www.weatherapi.com/\\', \\'content\\': \"{\\'location\\': {\\'name\\': \\'Los Angeles\\', \\'region\\': \\'California\\', \\'country\\': \\'United States of America\\', \\'lat\\': 34.0522, \\'lon\\': -118.2428, \\'tz_id\\': \\'America/Los_Angeles\\', \\'localtime_epoch\\': 1737363787, \\'localtime\\': \\'2025-01-20 01:03\\'}, \\'current\\': {\\'last_updated_epoch\\': 1737363600, \\'last_updated\\': \\'2025-01-20 01:00\\', \\'temp_c\\': 12.8, \\'temp_f\\': 55.0, \\'is_day\\': 0, \\'condition\\': {\\'text\\': \\'Overcast\\', \\'icon\\': \\'//cdn.weatherapi.com/weather/64x64/night/122.png\\', \\'code\\': 1009}, \\'wind_mph\\': 3.6, \\'wind_kph\\': 5.8, \\'wind_degree\\': 104, \\'wind_dir\\': \\'ESE\\', \\'pressure_mb\\': 1021.0, \\'pressure_in\\': 30.14, \\'precip_mm\\': 0.0, \\'precip_in\\': 0.0, \\'humidity\\': 74, \\'cloud\\': 100, \\'feelslike_c\\': 12.8, \\'feelslike_f\\': 55.0, \\'windchill_c\\': 9.5, \\'windchill_f\\': 49.1, \\'heatindex_c\\': 9.5, \\'heatindex_f\\': 49.1, \\'dewpoint_c\\': 8.7, \\'dewpoint_f\\': 47.7, \\'vis_km\\': 16.0, \\'vis_miles\\': 9.0, \\'uv\\': 0.0, \\'gust_mph\\': 5.3, \\'gust_kph\\': 8.5}}\"}, {\\'url\\': \\'https://world-weather.info/forecast/usa/los_angeles/january-2025/\\', \\'content\\': \"Weather in Los Angeles in January 2025 (California) - Detailed Weather Forecast for a Month Weather Weather in Los Angeles Weather in Los Angeles in January 2025 Los Angeles Weather Forecast for January 2025, is based on previous years\\' statistical data. +61°+50° +63°+52° +63°+52° +63°+52° +64°+55° +64°+54° +64°+55° +64°+55° +64°+55° +64°+54° +64°+54° +63°+52° +64°+54° +66°+54° +66°+54° +64°+55° +66°+55° +66°+55° +64°+54° +63°+54° +63°+54° +64°+54° +64°+54° +63°+52° +64°+54° +64°+54° +68°+55° +68°+54° +66°+54° +66°+54° +66°+55° Extended weather forecast in Los Angeles HourlyWeek10 days14 days30 daysYear Weather in large and nearby cities Weather in Washington, D.C.+64° Sacramento+66° Monterey Park+61° North Glendale+63° Norwalk+61° Pasadena+63° Rosemead+61° Santa Monica+61° Manhattan Beach+63° Inglewood+61° Bellflower+61° Beverly Hills+59° Burbank+63° Compton+61° Rancho Dominguez+61° world\\'s temperature today day day Temperature units\"}]', name='tavily_search_results_json', tool_call_id='call_se9rR9k6dwuGBbNzcvX2Lz08')]}\n",
      "{'messages': [AIMessage(content='The current weather in Los Angeles, California is overcast with a temperature of approximately 55.0°F (12.8°C). The wind is blowing from the east-southeast at 3.6 mph (5.8 kph), and the humidity level is 74%. There is no precipitation, and the visibility is around 16 kilometers (9 miles).', additional_kwargs={'refusal': None}, response_metadata={'token_usage': {'completion_tokens': 77, 'prompt_tokens': 1708, 'total_tokens': 1785, 'completion_tokens_details': {'accepted_prediction_tokens': 0, 'audio_tokens': 0, 'reasoning_tokens': 0, 'rejected_prediction_tokens': 0}, 'prompt_tokens_details': {'audio_tokens': 0, 'cached_tokens': 0}}, 'model_name': 'gpt-4o-2024-08-06', 'system_fingerprint': 'fp_4691090a87', 'finish_reason': 'stop', 'logprobs': None}, id='run-b8791c20-cb7c-467c-bf92-81f3002c57f6-0', usage_metadata={'input_tokens': 1708, 'output_tokens': 77, 'total_tokens': 1785, 'input_token_details': {'audio': 0, 'cache_read': 0}, 'output_token_details': {'audio': 0, 'reasoning': 0}})]}\n"
     ]
    }
   ],
   "source": [
    "messages = [HumanMessage(content=\"What about in la?\")]\n",
    "thread = {\"configurable\": {\"thread_id\": \"1\"}}\n",
    "for event in abot.graph.stream({\"messages\": messages}, thread):\n",
    "    for v in event.values():\n",
    "        print(v)"
   ]
  },
  {
   "cell_type": "code",
   "execution_count": 92,
   "id": "9260fcb8-9353-40d3-8ccc-497b3d65c657",
   "metadata": {},
   "outputs": [
    {
     "name": "stdout",
     "output_type": "stream",
     "text": [
      "{'messages': [AIMessage(content='Los Angeles is currently warmer than San Francisco. Los Angeles has a temperature of 55.0°F (12.8°C), while San Francisco has a temperature of 48.0°F (8.9°C).', additional_kwargs={'refusal': None}, response_metadata={'token_usage': {'completion_tokens': 46, 'prompt_tokens': 1796, 'total_tokens': 1842, 'completion_tokens_details': {'accepted_prediction_tokens': 0, 'audio_tokens': 0, 'reasoning_tokens': 0, 'rejected_prediction_tokens': 0}, 'prompt_tokens_details': {'audio_tokens': 0, 'cached_tokens': 1664}}, 'model_name': 'gpt-4o-2024-08-06', 'system_fingerprint': 'fp_4691090a87', 'finish_reason': 'stop', 'logprobs': None}, id='run-5717ef68-0c55-4495-b3a3-66d5c77cfb27-0', usage_metadata={'input_tokens': 1796, 'output_tokens': 46, 'total_tokens': 1842, 'input_token_details': {'audio': 0, 'cache_read': 1664}, 'output_token_details': {'audio': 0, 'reasoning': 0}})]}\n"
     ]
    }
   ],
   "source": [
    "messages = [HumanMessage(content=\"Which one is warmer?\")]\n",
    "thread = {\"configurable\": {\"thread_id\": \"1\"}}\n",
    "for event in abot.graph.stream({\"messages\": messages}, thread):\n",
    "    for v in event.values():\n",
    "        print(v)"
   ]
  },
  {
   "cell_type": "code",
   "execution_count": 93,
   "id": "de9870d2-018f-4f26-afa1-ce6f79f94b10",
   "metadata": {},
   "outputs": [
    {
     "name": "stdout",
     "output_type": "stream",
     "text": [
      "{'messages': [AIMessage(content=\"Could you please clarify what you're comparing? Are you asking about the temperature between two specific locations, times of year, or something else entirely? Let me know so I can assist you further!\", additional_kwargs={'refusal': None}, response_metadata={'token_usage': {'completion_tokens': 40, 'prompt_tokens': 149, 'total_tokens': 189, 'completion_tokens_details': {'accepted_prediction_tokens': 0, 'audio_tokens': 0, 'reasoning_tokens': 0, 'rejected_prediction_tokens': 0}, 'prompt_tokens_details': {'audio_tokens': 0, 'cached_tokens': 0}}, 'model_name': 'gpt-4o-2024-08-06', 'system_fingerprint': 'fp_4691090a87', 'finish_reason': 'stop', 'logprobs': None}, id='run-f4531ae2-c989-4ccb-8825-41418314931d-0', usage_metadata={'input_tokens': 149, 'output_tokens': 40, 'total_tokens': 189, 'input_token_details': {'audio': 0, 'cache_read': 0}, 'output_token_details': {'audio': 0, 'reasoning': 0}})]}\n"
     ]
    }
   ],
   "source": [
    "messages = [HumanMessage(content=\"Which one is warmer?\")]\n",
    "thread = {\"configurable\": {\"thread_id\": \"2\"}}\n",
    "for event in abot.graph.stream({\"messages\": messages}, thread):\n",
    "    for v in event.values():\n",
    "        print(v)"
   ]
  },
  {
   "cell_type": "code",
   "execution_count": null,
   "id": "2b1652ef-94dd-448d-9f9c-f623d3d678da",
   "metadata": {},
   "outputs": [],
   "source": []
  },
  {
   "cell_type": "code",
   "execution_count": null,
   "id": "0f727ebe-cfc1-4f8d-b19e-70804c07b326",
   "metadata": {},
   "outputs": [],
   "source": []
  }
 ],
 "metadata": {
  "kernelspec": {
   "display_name": "Python 3 (ipykernel)",
   "language": "python",
   "name": "python3"
  },
  "language_info": {
   "codemirror_mode": {
    "name": "ipython",
    "version": 3
   },
   "file_extension": ".py",
   "mimetype": "text/x-python",
   "name": "python",
   "nbconvert_exporter": "python",
   "pygments_lexer": "ipython3",
   "version": "3.12.7"
  }
 },
 "nbformat": 4,
 "nbformat_minor": 5
}
